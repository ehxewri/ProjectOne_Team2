{
 "cells": [
  {
   "cell_type": "code",
   "execution_count": 41,
   "metadata": {},
   "outputs": [],
   "source": [
    "import pandas as pd\n",
    "import hvplot.pandas\n",
    "import matplotlib.pyplot as plt\n",
    "import scipy.stats as st\n",
    "from bokeh.models.formatters import DatetimeTickFormatter"
   ]
  },
  {
   "cell_type": "code",
   "execution_count": 42,
   "metadata": {},
   "outputs": [
    {
     "data": {
      "text/html": [
       "<div>\n",
       "<style scoped>\n",
       "    .dataframe tbody tr th:only-of-type {\n",
       "        vertical-align: middle;\n",
       "    }\n",
       "\n",
       "    .dataframe tbody tr th {\n",
       "        vertical-align: top;\n",
       "    }\n",
       "\n",
       "    .dataframe thead th {\n",
       "        text-align: right;\n",
       "    }\n",
       "</style>\n",
       "<table border=\"1\" class=\"dataframe\">\n",
       "  <thead>\n",
       "    <tr style=\"text-align: right;\">\n",
       "      <th></th>\n",
       "      <th>country</th>\n",
       "      <th>state</th>\n",
       "      <th>county</th>\n",
       "      <th>series_Desc</th>\n",
       "      <th>series_id</th>\n",
       "      <th>filename</th>\n",
       "    </tr>\n",
       "  </thead>\n",
       "  <tbody>\n",
       "    <tr>\n",
       "      <th>0</th>\n",
       "      <td>United States</td>\n",
       "      <td>TX</td>\n",
       "      <td>Collin</td>\n",
       "      <td>House Price Index</td>\n",
       "      <td>ATNHPIUS48085A</td>\n",
       "      <td>United_States_TX_Collin_House_Price_Index</td>\n",
       "    </tr>\n",
       "    <tr>\n",
       "      <th>1</th>\n",
       "      <td>United States</td>\n",
       "      <td>TX</td>\n",
       "      <td>Dallas</td>\n",
       "      <td>House Price Index</td>\n",
       "      <td>ATNHPIUS48113A</td>\n",
       "      <td>United_States_TX_Dallas_House_Price_Index</td>\n",
       "    </tr>\n",
       "    <tr>\n",
       "      <th>2</th>\n",
       "      <td>United States</td>\n",
       "      <td>TX</td>\n",
       "      <td>Denton</td>\n",
       "      <td>House Price Index</td>\n",
       "      <td>ATNHPIUS48121A</td>\n",
       "      <td>United_States_TX_Denton_House_Price_Index</td>\n",
       "    </tr>\n",
       "    <tr>\n",
       "      <th>3</th>\n",
       "      <td>United States</td>\n",
       "      <td>TX</td>\n",
       "      <td>Collin</td>\n",
       "      <td>Household Income</td>\n",
       "      <td>MHITX48085A052NCEN</td>\n",
       "      <td>United_States_TX_Collin_Household_Income</td>\n",
       "    </tr>\n",
       "    <tr>\n",
       "      <th>4</th>\n",
       "      <td>United States</td>\n",
       "      <td>TX</td>\n",
       "      <td>Dallas</td>\n",
       "      <td>Household Income</td>\n",
       "      <td>MHITX48113A052NCEN</td>\n",
       "      <td>United_States_TX_Dallas_Household_Income</td>\n",
       "    </tr>\n",
       "    <tr>\n",
       "      <th>5</th>\n",
       "      <td>United States</td>\n",
       "      <td>TX</td>\n",
       "      <td>Denton</td>\n",
       "      <td>Household Income</td>\n",
       "      <td>MHITX48121A052NCEN</td>\n",
       "      <td>United_States_TX_Denton_Household_Income</td>\n",
       "    </tr>\n",
       "    <tr>\n",
       "      <th>6</th>\n",
       "      <td>United States</td>\n",
       "      <td>TX</td>\n",
       "      <td>Collin</td>\n",
       "      <td>Resident Population</td>\n",
       "      <td>TXCOLL5POP</td>\n",
       "      <td>United_States_TX_Collin_Resident_Population</td>\n",
       "    </tr>\n",
       "    <tr>\n",
       "      <th>7</th>\n",
       "      <td>United States</td>\n",
       "      <td>TX</td>\n",
       "      <td>Dallas</td>\n",
       "      <td>Resident Population</td>\n",
       "      <td>TXDALL3POP</td>\n",
       "      <td>United_States_TX_Dallas_Resident_Population</td>\n",
       "    </tr>\n",
       "    <tr>\n",
       "      <th>8</th>\n",
       "      <td>United States</td>\n",
       "      <td>TX</td>\n",
       "      <td>Denton</td>\n",
       "      <td>Resident Population</td>\n",
       "      <td>TXDENT2POP</td>\n",
       "      <td>United_States_TX_Denton_Resident_Population</td>\n",
       "    </tr>\n",
       "  </tbody>\n",
       "</table>\n",
       "</div>"
      ],
      "text/plain": [
       "         country state  county          series_Desc           series_id  \\\n",
       "0  United States    TX  Collin    House Price Index      ATNHPIUS48085A   \n",
       "1  United States    TX  Dallas    House Price Index      ATNHPIUS48113A   \n",
       "2  United States    TX  Denton    House Price Index      ATNHPIUS48121A   \n",
       "3  United States    TX  Collin     Household Income  MHITX48085A052NCEN   \n",
       "4  United States    TX  Dallas     Household Income  MHITX48113A052NCEN   \n",
       "5  United States    TX  Denton     Household Income  MHITX48121A052NCEN   \n",
       "6  United States    TX  Collin  Resident Population          TXCOLL5POP   \n",
       "7  United States    TX  Dallas  Resident Population          TXDALL3POP   \n",
       "8  United States    TX  Denton  Resident Population          TXDENT2POP   \n",
       "\n",
       "                                      filename  \n",
       "0    United_States_TX_Collin_House_Price_Index  \n",
       "1    United_States_TX_Dallas_House_Price_Index  \n",
       "2    United_States_TX_Denton_House_Price_Index  \n",
       "3     United_States_TX_Collin_Household_Income  \n",
       "4     United_States_TX_Dallas_Household_Income  \n",
       "5     United_States_TX_Denton_Household_Income  \n",
       "6  United_States_TX_Collin_Resident_Population  \n",
       "7  United_States_TX_Dallas_Resident_Population  \n",
       "8  United_States_TX_Denton_Resident_Population  "
      ]
     },
     "metadata": {},
     "output_type": "display_data"
    }
   ],
   "source": [
    "# read the file into a list\n",
    "list_of_series_df = pd.read_csv('C:\\SRC\\AI\\ProjectOne_Team2\\Frank_playground\\output_filename.csv')\n",
    "display (list_of_series_df)"
   ]
  },
  {
   "cell_type": "code",
   "execution_count": 43,
   "metadata": {},
   "outputs": [
    {
     "data": {
      "text/html": [
       "<div>\n",
       "<style scoped>\n",
       "    .dataframe tbody tr th:only-of-type {\n",
       "        vertical-align: middle;\n",
       "    }\n",
       "\n",
       "    .dataframe tbody tr th {\n",
       "        vertical-align: top;\n",
       "    }\n",
       "\n",
       "    .dataframe thead th {\n",
       "        text-align: right;\n",
       "    }\n",
       "</style>\n",
       "<table border=\"1\" class=\"dataframe\">\n",
       "  <thead>\n",
       "    <tr style=\"text-align: right;\">\n",
       "      <th></th>\n",
       "      <th>value</th>\n",
       "    </tr>\n",
       "    <tr>\n",
       "      <th>date</th>\n",
       "      <th></th>\n",
       "    </tr>\n",
       "  </thead>\n",
       "  <tbody>\n",
       "    <tr>\n",
       "      <th>1997-01-01</th>\n",
       "      <td>81.38</td>\n",
       "    </tr>\n",
       "    <tr>\n",
       "      <th>1998-01-01</th>\n",
       "      <td>86.26</td>\n",
       "    </tr>\n",
       "    <tr>\n",
       "      <th>1999-01-01</th>\n",
       "      <td>91.78</td>\n",
       "    </tr>\n",
       "    <tr>\n",
       "      <th>2000-01-01</th>\n",
       "      <td>100.00</td>\n",
       "    </tr>\n",
       "    <tr>\n",
       "      <th>2001-01-01</th>\n",
       "      <td>106.65</td>\n",
       "    </tr>\n",
       "  </tbody>\n",
       "</table>\n",
       "</div>"
      ],
      "text/plain": [
       "             value\n",
       "date              \n",
       "1997-01-01   81.38\n",
       "1998-01-01   86.26\n",
       "1999-01-01   91.78\n",
       "2000-01-01  100.00\n",
       "2001-01-01  106.65"
      ]
     },
     "metadata": {},
     "output_type": "display_data"
    },
    {
     "data": {
      "text/html": [
       "<div>\n",
       "<style scoped>\n",
       "    .dataframe tbody tr th:only-of-type {\n",
       "        vertical-align: middle;\n",
       "    }\n",
       "\n",
       "    .dataframe tbody tr th {\n",
       "        vertical-align: top;\n",
       "    }\n",
       "\n",
       "    .dataframe thead th {\n",
       "        text-align: right;\n",
       "    }\n",
       "</style>\n",
       "<table border=\"1\" class=\"dataframe\">\n",
       "  <thead>\n",
       "    <tr style=\"text-align: right;\">\n",
       "      <th></th>\n",
       "      <th>value</th>\n",
       "    </tr>\n",
       "    <tr>\n",
       "      <th>date</th>\n",
       "      <th></th>\n",
       "    </tr>\n",
       "  </thead>\n",
       "  <tbody>\n",
       "    <tr>\n",
       "      <th>1997-01-01</th>\n",
       "      <td>2118.835</td>\n",
       "    </tr>\n",
       "    <tr>\n",
       "      <th>1998-01-01</th>\n",
       "      <td>2163.082</td>\n",
       "    </tr>\n",
       "    <tr>\n",
       "      <th>1999-01-01</th>\n",
       "      <td>2197.658</td>\n",
       "    </tr>\n",
       "    <tr>\n",
       "      <th>2000-01-01</th>\n",
       "      <td>2223.419</td>\n",
       "    </tr>\n",
       "    <tr>\n",
       "      <th>2001-01-01</th>\n",
       "      <td>2265.758</td>\n",
       "    </tr>\n",
       "  </tbody>\n",
       "</table>\n",
       "</div>"
      ],
      "text/plain": [
       "               value\n",
       "date                \n",
       "1997-01-01  2118.835\n",
       "1998-01-01  2163.082\n",
       "1999-01-01  2197.658\n",
       "2000-01-01  2223.419\n",
       "2001-01-01  2265.758"
      ]
     },
     "metadata": {},
     "output_type": "display_data"
    },
    {
     "data": {
      "text/html": [
       "<div>\n",
       "<style scoped>\n",
       "    .dataframe tbody tr th:only-of-type {\n",
       "        vertical-align: middle;\n",
       "    }\n",
       "\n",
       "    .dataframe tbody tr th {\n",
       "        vertical-align: top;\n",
       "    }\n",
       "\n",
       "    .dataframe thead th {\n",
       "        text-align: right;\n",
       "    }\n",
       "</style>\n",
       "<table border=\"1\" class=\"dataframe\">\n",
       "  <thead>\n",
       "    <tr style=\"text-align: right;\">\n",
       "      <th></th>\n",
       "      <th>value</th>\n",
       "    </tr>\n",
       "    <tr>\n",
       "      <th>date</th>\n",
       "      <th></th>\n",
       "    </tr>\n",
       "  </thead>\n",
       "  <tbody>\n",
       "    <tr>\n",
       "      <th>2018-01-01</th>\n",
       "      <td>198.29</td>\n",
       "    </tr>\n",
       "    <tr>\n",
       "      <th>2019-01-01</th>\n",
       "      <td>206.18</td>\n",
       "    </tr>\n",
       "    <tr>\n",
       "      <th>2020-01-01</th>\n",
       "      <td>210.42</td>\n",
       "    </tr>\n",
       "    <tr>\n",
       "      <th>2021-01-01</th>\n",
       "      <td>235.41</td>\n",
       "    </tr>\n",
       "    <tr>\n",
       "      <th>2022-01-01</th>\n",
       "      <td>281.60</td>\n",
       "    </tr>\n",
       "  </tbody>\n",
       "</table>\n",
       "</div>"
      ],
      "text/plain": [
       "             value\n",
       "date              \n",
       "2018-01-01  198.29\n",
       "2019-01-01  206.18\n",
       "2020-01-01  210.42\n",
       "2021-01-01  235.41\n",
       "2022-01-01  281.60"
      ]
     },
     "metadata": {},
     "output_type": "display_data"
    },
    {
     "data": {
      "text/html": [
       "<div>\n",
       "<style scoped>\n",
       "    .dataframe tbody tr th:only-of-type {\n",
       "        vertical-align: middle;\n",
       "    }\n",
       "\n",
       "    .dataframe tbody tr th {\n",
       "        vertical-align: top;\n",
       "    }\n",
       "\n",
       "    .dataframe thead th {\n",
       "        text-align: right;\n",
       "    }\n",
       "</style>\n",
       "<table border=\"1\" class=\"dataframe\">\n",
       "  <thead>\n",
       "    <tr style=\"text-align: right;\">\n",
       "      <th></th>\n",
       "      <th>value</th>\n",
       "    </tr>\n",
       "    <tr>\n",
       "      <th>date</th>\n",
       "      <th></th>\n",
       "    </tr>\n",
       "  </thead>\n",
       "  <tbody>\n",
       "    <tr>\n",
       "      <th>2018-01-01</th>\n",
       "      <td>2629.764</td>\n",
       "    </tr>\n",
       "    <tr>\n",
       "      <th>2019-01-01</th>\n",
       "      <td>2635.603</td>\n",
       "    </tr>\n",
       "    <tr>\n",
       "      <th>2020-01-01</th>\n",
       "      <td>2610.112</td>\n",
       "    </tr>\n",
       "    <tr>\n",
       "      <th>2021-01-01</th>\n",
       "      <td>2588.235</td>\n",
       "    </tr>\n",
       "    <tr>\n",
       "      <th>2022-01-01</th>\n",
       "      <td>2601.993</td>\n",
       "    </tr>\n",
       "  </tbody>\n",
       "</table>\n",
       "</div>"
      ],
      "text/plain": [
       "               value\n",
       "date                \n",
       "2018-01-01  2629.764\n",
       "2019-01-01  2635.603\n",
       "2020-01-01  2610.112\n",
       "2021-01-01  2588.235\n",
       "2022-01-01  2601.993"
      ]
     },
     "metadata": {},
     "output_type": "display_data"
    },
    {
     "name": "stdout",
     "output_type": "stream",
     "text": [
      "<class 'pandas.core.frame.DataFrame'>\n",
      "DatetimeIndex: 26 entries, 1997-01-01 to 2022-01-01\n",
      "Data columns (total 1 columns):\n",
      " #   Column  Non-Null Count  Dtype  \n",
      "---  ------  --------------  -----  \n",
      " 0   value   26 non-null     float64\n",
      "dtypes: float64(1)\n",
      "memory usage: 416.0 bytes\n"
     ]
    },
    {
     "data": {
      "text/plain": [
       "None"
      ]
     },
     "metadata": {},
     "output_type": "display_data"
    },
    {
     "name": "stdout",
     "output_type": "stream",
     "text": [
      "<class 'pandas.core.frame.DataFrame'>\n",
      "DatetimeIndex: 26 entries, 1997-01-01 to 2022-01-01\n",
      "Data columns (total 1 columns):\n",
      " #   Column  Non-Null Count  Dtype  \n",
      "---  ------  --------------  -----  \n",
      " 0   value   26 non-null     float64\n",
      "dtypes: float64(1)\n",
      "memory usage: 416.0 bytes\n"
     ]
    },
    {
     "data": {
      "text/plain": [
       "None"
      ]
     },
     "metadata": {},
     "output_type": "display_data"
    }
   ],
   "source": [
    "\n",
    "# read the file into a list\n",
    "# for index, row in list_of_series_df.iterrows():\n",
    "hpi_data='United_States_TX_Dallas_House_Price_Index'\n",
    "pop_data='United_States_TX_Dallas_Resident_Population'\n",
    "\n",
    "hpi_df=  pd.read_csv(f'C:\\SRC\\AI\\ProjectOne_Team2\\\\resources\\{hpi_data}.csv',\n",
    "                    index_col='date',\n",
    "                    parse_dates=True,\n",
    "                    date_format='%Y-%m-%d')\n",
    "pop_df=  pd.read_csv(f'C:\\SRC\\AI\\ProjectOne_Team2\\\\resources\\{pop_data}.csv',\n",
    "                    index_col='date',\n",
    "                    parse_dates=True,\n",
    "                    date_format='%Y-%m-%d')\n",
    "\n",
    "display (hpi_df.head())\n",
    "display (pop_df.head())\n",
    "display (hpi_df.tail())\n",
    "display (pop_df.tail())\n",
    "display (hpi_df.info())\n",
    "display (pop_df.info())"
   ]
  },
  {
   "cell_type": "markdown",
   "metadata": {},
   "source": [
    "In statistics, the strength of a correlation, measured by the correlation coefficient, indicates how closely two variables are related to each other. The correlation coefficient (often denoted as \\( r \\)) typically ranges from -1 to 1, where:\n",
    "\n",
    "- **+1** indicates a perfect positive correlation: As one variable increases, the other variable increases in a perfectly linear fashion.\n",
    "- **-1** indicates a perfect negative correlation: As one variable increases, the other decreases in a perfectly linear fashion.\n",
    "- **0** indicates no correlation: There is no linear relationship between the variables.\n",
    "\n",
    "### Interpretation of Correlation Values\n",
    "\n",
    "The strength of a correlation is usually determined by the absolute value of the correlation coefficient (\\(|r|\\)). Here's a general guideline for interpreting the strength:\n",
    "\n",
    "- **Very weak or no correlation**: \\( |r| \\leq 0.19 \\)\n",
    "- **Weak correlation**: \\( 0.20 \\leq |r| \\leq 0.39 \\)\n",
    "- **Moderate correlation**: \\( 0.40 \\leq |r| \\leq 0.59 \\)\n",
    "- **Strong correlation**: \\( 0.60 \\leq |r| \\leq 0.79 \\)\n",
    "- **Very strong correlation**: \\( 0.80 \\leq |r| \\leq 1.00 \\)\n",
    "\n",
    "### Context Matters\n",
    "\n",
    "The interpretation of what is considered \"strong\" can vary by context and field of study. In fields where factors are typically less controlled and more variable, such as social sciences, a correlation coefficient of 0.6 might be considered very strong. In contrast, in fields like physics, where experiments are highly controlled, a correlation coefficient closer to 1.0 may be expected for a strong correlation.\n",
    "\n",
    "### Practical Example\n",
    "\n",
    "Suppose you are analyzing data where you calculated the correlation coefficient between two variables to be 0.65. According to the general guideline, this would be considered a strong correlation, meaning there is a substantial relationship between the variables, though the relationship is not perfect.\n",
    "\n",
    "### Considerations Beyond Correlation\n",
    "\n",
    "- **Causation**: Correlation does not imply causation. Just because two variables are correlated does not mean one causes the other to change. Other underlying factors might influence both variables.\n",
    "- **Outliers**: Correlation can be heavily influenced by outliers. It’s important to analyze data plots or perform additional statistics to understand the data fully.\n",
    "- **Linear vs. Non-linear Relationships**: The Pearson correlation coefficient measures the strength of a linear relationship. If the relationship is non-linear, even a strong non-linear relationship may have a low Pearson correlation coefficient.\n",
    "\n",
    "### Conclusion\n",
    "\n",
    "A \"strong\" correlation typically refers to a correlation coefficient between 0.60 and 0.79. However, understanding the practical implications of this relationship requires a careful consideration of the broader context, including the nature of the data and the specific conditions of the field of study."
   ]
  },
  {
   "cell_type": "code",
   "execution_count": 44,
   "metadata": {},
   "outputs": [
    {
     "name": "stdout",
     "output_type": "stream",
     "text": [
      "The correlation between both factors is 0.86\n"
     ]
    }
   ],
   "source": [
    "# The next example will compute the Pearson correlation coefficient between \"Income per Capita\" and \"Average Alcohol Consumed\"\n",
    "hpi = hpi_df.loc[:,'value']\n",
    "pop = pop_df.loc[:,'value']\n",
    "correlation = st.pearsonr(hpi,pop)\n",
    "print(f\"The correlation between both factors is {round(correlation[0],2)}\")"
   ]
  },
  {
   "cell_type": "markdown",
   "metadata": {},
   "source": []
  },
  {
   "cell_type": "code",
   "execution_count": 45,
   "metadata": {},
   "outputs": [
    {
     "name": "stdout",
     "output_type": "stream",
     "text": [
      "The correlation between both factors is 0.86\n"
     ]
    },
    {
     "data": {
      "image/png": "[encoded data removed]",
      "text/plain": [
       "<Figure size 640x480 with 1 Axes>"
      ]
     },
     "metadata": {},
     "output_type": "display_data"
    }
   ],
   "source": [
    "# Compare the calcualted Pearson's r to the plots\n",
    "plt.scatter(hpi,pop)\n",
    "plt.xlabel('Housing Price Index')\n",
    "plt.ylabel('Population in Thousands')\n",
    "print(f\"The correlation between both factors is {round(correlation[0],2)}\")\n",
    "plt.show()"
   ]
  },
  {
   "cell_type": "code",
   "execution_count": 51,
   "metadata": {},
   "outputs": [
    {
     "data": {
      "application/vnd.jupyter.widget-view+json": {
       "model_id": "b0e8acf6e2ff474ca375a5f225872c88",
       "version_major": 2,
       "version_minor": 0
      },
      "text/plain": [
       "BokehModel(combine_events=True, render_bundle={'docs_json': {'1bd3b098-2b80-4e51-bb6d-d6dcb7e3ade1': {'version…"
      ]
     },
     "metadata": {},
     "output_type": "display_data"
    }
   ],
   "source": [
    "# Merge POP and HPI\n",
    "\n",
    "hpi_pop_df=pd.concat([hpi_df,pop_df], axis=1)\n",
    "hpi_pop_df.columns.values[0] = 'HPI'\n",
    "hpi_pop_df.columns.values[1] = 'POP'\n",
    "# display (hpi_pop_df.info())\n",
    "# display (hpi_df.info())\n",
    "hpi_pop_plot=hpi_pop_df.interactive().hvplot().opts(xformatter=DatetimeTickFormatter(years='%Y'),ylim=(0, 3000))\n",
    "\n",
    "display (hpi_pop_plot)"
   ]
  }
 ],
 "metadata": {
  "kernelspec": {
   "display_name": "dev",
   "language": "python",
   "name": "dev"
  },
  "language_info": {
   "codemirror_mode": {
    "name": "ipython",
    "version": 3
   },
   "file_extension": ".py",
   "mimetype": "text/x-python",
   "name": "python",
   "nbconvert_exporter": "python",
   "pygments_lexer": "ipython3",
   "version": "3.10.13"
  }
 },
 "nbformat": 4,
 "nbformat_minor": 2
}
