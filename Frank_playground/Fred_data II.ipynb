{
 "cells": [
  {
   "cell_type": "markdown",
   "metadata": {},
   "source": [
    "# Data Processing Pipeline\n",
    "This script performs several functions: it loads necessary keys, reads series identifiers, retrieves and processes data, and finally saves this data for further use in visualization.\n",
    "## Load the Key\n",
    "- **Description**: Load the necessary authentication key or configuration that may be needed for data access.\n",
    "## Read Series ID\n",
    "- **File Location**: `../resources/list_of_series.csv`\n",
    "## Process Each Series\n",
    "### Loop Through Each Series Row\n",
    "For each row in the series list, perform the following steps:\n",
    "#### 1. Data Retrieval\n",
    "- **Description**: Reads the series ID from a CSV file to identify which data series to process.\n",
    "- **API Call**: Use the specified API to fetch the data related to the series ID.\n",
    "#### 2. Data Processing\n",
    "- **Transform**: Loop through the retrieved data and organize it by year into a pandas DataFrame.\n",
    "#### 3. File Naming\n",
    "- **Generate Filename**: Create a unique filename for each dataset based on attributes from the `list_of_series`.\n",
    "#### 4. Save Data\n",
    "\n",
    "- **Location**: `../resources/`\n",
    "- **Description**: Write the processed files to the specified directory for later use in data visualization tasks.\n"
   ]
  },
  {
   "cell_type": "code",
   "execution_count": null,
   "metadata": {},
   "outputs": [],
   "source": []
  },
  {
   "cell_type": "code",
   "execution_count": 24,
   "metadata": {},
   "outputs": [],
   "source": [
    "# Populate the data in resources for all counties\n",
    "# Dependencies\n",
    "import requests\n",
    "from dotenv import load_dotenv\n",
    "import os\n",
    "import pandas as pd\n",
    "from bs4 import BeautifulSoup"
   ]
  },
  {
   "cell_type": "markdown",
   "metadata": {},
   "source": [
    "https://api.stlouisfed.org/fred/category/series?category_id=125&api_key=abcdefghijklmnopqrstuvwxyz123456\n",
    "https://fred.stlouisfed.org/docs/api/fred/category_series.html#Description "
   ]
  },
  {
   "cell_type": "code",
   "execution_count": 2,
   "metadata": {},
   "outputs": [
    {
     "name": "stdout",
     "output_type": "stream",
     "text": [
      "All keys loaded correctly\n"
     ]
    }
   ],
   "source": [
    "# Set environment variables from the .env in the local environment\n",
    "def key_check(key_path=None):\n",
    "    try:\n",
    "        reply=load_dotenv(key_path,verbose=True,override=True)   \n",
    "        assert reply , 'Dotenv is not found'\n",
    "        fred_api_key = os.getenv(\"FRED_API_KEY\")\n",
    "        assert fred_api_key is not None, 'FRED_API_KEY not found in .env file'\n",
    "        responce=requests.get(f'https://api.stlouisfed.org/fred/category/series?category_id=125&api_key={fred_api_key}')\n",
    "        assert responce.status_code == 200, f'The key provided failed to authenticate tmdb_api_key {fred_api_key} code {responce.status_code}'\n",
    "    except Exception as e:\n",
    "        # Handle potential errors in loading .env or missing API keys\n",
    "        print(f'An error occurred: {e}')\n",
    "        return(False)\n",
    "    else:\n",
    "        print('All keys loaded correctly')\n",
    "        return (True)\n",
    "my_env_path='C:\\SRC\\AI\\ProjectOne_Team2\\Frank_playground\\keys.env'\n",
    "if key_check(my_env_path):\n",
    "    fred_api_key = os.getenv(\"FRED_API_KEY\")\n",
    "else:\n",
    "    print ('fix Keys and rerun')"
   ]
  },
  {
   "cell_type": "code",
   "execution_count": 3,
   "metadata": {},
   "outputs": [],
   "source": [
    "# read the file into a list\n",
    "list_of_series_df = pd.read_csv('C:\\SRC\\AI\\ProjectOne_Team2\\\\resources\\\\all_tx _counties.csv')"
   ]
  },
  {
   "cell_type": "code",
   "execution_count": 4,
   "metadata": {},
   "outputs": [],
   "source": [
    "#  Set the base URL\n",
    "rt_start='&observation_start=1997-01-01'\n",
    "rt_end='&observation_end=2022-01-01'\n",
    "series_id=''\n",
    "url = (f\"https://api.stlouisfed.org/fred/series/observations?series_id={series_id}{rt_start}{rt_end}&api_key={fred_api_key}&file_type=json\")"
   ]
  },
  {
   "cell_type": "code",
   "execution_count": 5,
   "metadata": {},
   "outputs": [],
   "source": [
    "def create_filename(row):\n",
    "    # Join the desired fields with underscores\n",
    "    filename = '_'.join(row[['country', 'state', 'county', 'series_Desc']])\n",
    "    # Replace spaces with underscores and remove any problematic characters\n",
    "    filename = filename.replace(' ', '_').replace('/', '_')\n",
    "    return filename"
   ]
  },
  {
   "cell_type": "code",
   "execution_count": 8,
   "metadata": {},
   "outputs": [
    {
     "data": {
      "text/plain": [
       "'https://api.stlouisfed.org/fred/series/observations?series_id=ATNHPIUS48001A&observation_start=1997-01-01&observation_end=2022-01-01&api_key=791aff06728f5b2b7056c7e789b48ad5&file_type=json'"
      ]
     },
     "metadata": {},
     "output_type": "display_data"
    }
   ],
   "source": [
    "\n",
    "for index, row in list_of_series_df.iterrows():\n",
    "    series_id=list_of_series_df.loc[index,'series_id']\n",
    "    url = (f\"https://api.stlouisfed.org/fred/series/observations?series_id={series_id}{rt_start}{rt_end}&api_key={fred_api_key}&file_type=json\")\n",
    "    try:\n",
    "        series=[]\n",
    "        response = requests.get(url)\n",
    "        response.raise_for_status()  # This will raise an HTTPError if the HTTP request returned an unsuccessful status code\n",
    "        series = response.json()\n",
    "    except requests.exceptions.HTTPError as http_err:\n",
    "        # Handle specific HTTP errors e.g., 404, 500 etc.\n",
    "        print(f'error {response.status_code} series ID {series_id}')  \n",
    "    except requests.exceptions.RequestException as err:\n",
    "        # Handle other requests-related errors\n",
    "        print(f'An error occurred: {err}')\n",
    "    except Exception as e:\n",
    "        # Handle other exceptions such as a JSON decoding error\n",
    "        print(f'An error occurred: {e}')\n",
    "    # display (series)\n",
    "    # Create an empty list to store the reviews\n",
    "    else:\n",
    "        display (f\"https://api.stlouisfed.org/fred/series/observations?series_id={series_id}{rt_start}{rt_end}&api_key={fred_api_key}&file_type=json\")\n",
    "        break\n",
    "        series_list =[]\n",
    "        for item in series[\"observations\"]:\n",
    "            if item['value'] != '.':\n",
    "                series_list.append(item)      \n",
    "        # Clean Data\n",
    "        series_df = pd.DataFrame(series_list)\n",
    "        series_df = (\n",
    "            series_df\n",
    "            .drop(series_df.columns[[0, 1]], axis=1)\n",
    "            .assign(date=lambda df: pd.to_datetime(df['date']))\n",
    "            .set_index('date')\n",
    "            .dropna()\n",
    "        )\n",
    "        # CREATE A FILENAME AND WRITE THE DATA TO THE FILE.\n",
    "        filename = create_filename(row)\n",
    "        list_of_series_df['filename']=list_of_series_df.apply(create_filename, axis=1)\n",
    "        file_path = f\"../resources/{filename}.csv\"  # Construct file path with .csv extension\n",
    "        series_df.to_csv(file_path, index=True)"
   ]
  },
  {
   "cell_type": "code",
   "execution_count": 7,
   "metadata": {},
   "outputs": [],
   "source": [
    "list_of_series_df.to_csv('C:/SRC/AI/ProjectOne_Team2//resources/filename.csv', index=False)"
   ]
  },
  {
   "cell_type": "code",
   "execution_count": null,
   "metadata": {},
   "outputs": [],
   "source": [
    "\n",
    "\n",
    "titles = []\n",
    "for index in range (1,600): \n",
    "# Send a GET request to the URL\n",
    "    url = (f'https://fred.stlouisfed.org/series/ATNHPIUS48{index:03}A')\n",
    "    display (url)\n",
    "    response = requests.get(url)\n",
    "    # Check if the request was successful\n",
    "    if response.status_code == 200:\n",
    "        # Parse the HTML content\n",
    "        soup = BeautifulSoup(response.text, 'html.parser')\n",
    "        # Find the <title> tag\n",
    "        title_tag = soup.find('title')\n",
    "        # Extract the text from the <title> tag\n",
    "        title_text = title_tag.text if title_tag else None\n",
    "        # Create a list and add the title text\n",
    "        if title_text:\n",
    "            titles.append(title_text)  # Add the title text to the list\n",
    "    else:\n",
    "        print(\"Failed to retrieve the webpage. Status code:\", response.status_code)\n",
    "# Print the list to see the result\n",
    "print(titles)"
   ]
  },
  {
   "cell_type": "code",
   "execution_count": 45,
   "metadata": {},
   "outputs": [],
   "source": [
    "# Initialize lists to store the extracted data\n",
    "counties = []\n",
    "series_ids = []\n",
    "for item in titles:\n",
    "    # Split the string to isolate the part before the first '|'\n",
    "    main_part = item.split('|')[0].strip()\n",
    "    \n",
    "    # Extract the county name; it's always followed by \", TX\"\n",
    "    county = main_part.split(\", TX\")[0].split('for ')[-1].strip()\n",
    "    \n",
    "    # Extract the series ID; it's always within parentheses\n",
    "    series_id = main_part.split('(')[-1].split(')')[0].strip()\n",
    "    \n",
    "    # Append to lists\n",
    "    counties.append(county)\n",
    "    series_ids.append(series_id)\n",
    "\n",
    "# Create a DataFrame from the lists\n",
    "county_series_id_df = pd.DataFrame({\n",
    "    'County': counties,\n",
    "    'Series ID': series_ids\n",
    "})\n",
    "county_series_id_df.head(100)\n",
    "file_path = f\"../resources/tx_county_Series_id.csv\"  # Construct file path with .csv extension\n",
    "county_series_id_df.to_csv(file_path, index=False)"
   ]
  }
 ],
 "metadata": {
  "kernelspec": {
   "display_name": "dev",
   "language": "python",
   "name": "dev"
  },
  "language_info": {
   "codemirror_mode": {
    "name": "ipython",
    "version": 3
   },
   "file_extension": ".py",
   "mimetype": "text/x-python",
   "name": "python",
   "nbconvert_exporter": "python",
   "pygments_lexer": "ipython3",
   "version": "3.10.13"
  }
 },
 "nbformat": 4,
 "nbformat_minor": 2
}
