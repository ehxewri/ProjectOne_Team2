{
 "cells": [
  {
   "cell_type": "code",
   "execution_count": 1,
   "metadata": {},
   "outputs": [],
   "source": [
    "# Dependencies\n",
    "import requests\n",
    "from dotenv import load_dotenv\n",
    "import os\n",
    "import pandas as pd"
   ]
  },
  {
   "cell_type": "markdown",
   "metadata": {},
   "source": [
    "https://api.stlouisfed.org/fred/category/series?category_id=125&api_key=abcdefghijklmnopqrstuvwxyz123456\n",
    "https://fred.stlouisfed.org/docs/api/fred/category_series.html#Description "
   ]
  },
  {
   "cell_type": "code",
   "execution_count": 2,
   "metadata": {},
   "outputs": [
    {
     "name": "stdout",
     "output_type": "stream",
     "text": [
      "All keys loaded correctly\n"
     ]
    }
   ],
   "source": [
    "# Set environment variables from the .env in the local environment    \n",
    "\n",
    "def key_check(key_path=None):\n",
    "    try:\n",
    "        reply=load_dotenv(key_path,verbose=True,override=True)   \n",
    "        assert reply , 'Dotenv is not found'\n",
    "        fred_api_key = os.getenv(\"FRED_API_KEY\")\n",
    "        assert fred_api_key is not None, 'FRED_API_KEY not found in .env file'\n",
    "        responce=requests.get(f'https://api.stlouisfed.org/fred/category/series?category_id=125&api_key={fred_api_key}')\n",
    "        assert responce.status_code == 200, f'The key provided failed to authenticate tmdb_api_key {fred_api_key} code {responce.status_code}'\n",
    "    except Exception as e:\n",
    "        # Handle potential errors in loading .env or missing API keys\n",
    "        print(f'An error occurred: {e}')\n",
    "        return(False)\n",
    "    else:\n",
    "        print('All keys loaded correctly')\n",
    "        return (True)\n",
    "my_env_path='C:\\SRC\\AI\\ProjectOne_Team2\\Frank_playground\\keys.env'\n",
    "if key_check(my_env_path):\n",
    "    fred_api_key = os.getenv(\"FRED_API_KEY\")\n",
    "else:\n",
    "    print ('fix Keys and rerun')"
   ]
  },
  {
   "cell_type": "code",
   "execution_count": 3,
   "metadata": {},
   "outputs": [],
   "source": [
    "# this cell will be used to read the Series ID from the series ID file\n",
    "# read the file into a list\n",
    "list_of_series_df = pd.read_csv('C:\\SRC\\AI\\ProjectOne_Team2\\Frank_playground\\list_of_series.csv')"
   ]
  },
  {
   "cell_type": "code",
   "execution_count": 4,
   "metadata": {},
   "outputs": [],
   "source": [
    "#  Set the base URL\n",
    "series_id='ATNHPIUS48113A'\n",
    "url = (f\"https://api.stlouisfed.org/fred/series/observations?series_id={series_id}&api_key={fred_api_key}&file_type=json\")"
   ]
  },
  {
   "cell_type": "code",
   "execution_count": 6,
   "metadata": {},
   "outputs": [
    {
     "data": {
      "text/plain": [
       "'United_States_TX_Collin_House_Price_Index'"
      ]
     },
     "metadata": {},
     "output_type": "display_data"
    },
    {
     "data": {
      "text/plain": [
       "'United_States_TX_Dallas_House_Price_Index'"
      ]
     },
     "metadata": {},
     "output_type": "display_data"
    },
    {
     "data": {
      "text/plain": [
       "'United_States_TX_Denton_House_Price_Index'"
      ]
     },
     "metadata": {},
     "output_type": "display_data"
    },
    {
     "data": {
      "text/plain": [
       "'United_States_TX_Collin_Household_Income'"
      ]
     },
     "metadata": {},
     "output_type": "display_data"
    },
    {
     "data": {
      "text/plain": [
       "'United_States_TX_Dallas_Household_Income'"
      ]
     },
     "metadata": {},
     "output_type": "display_data"
    },
    {
     "data": {
      "text/plain": [
       "'United_States_TX_Denton_Household_Income'"
      ]
     },
     "metadata": {},
     "output_type": "display_data"
    },
    {
     "data": {
      "text/plain": [
       "'United_States_TX_Collin_Resident_Population'"
      ]
     },
     "metadata": {},
     "output_type": "display_data"
    },
    {
     "data": {
      "text/plain": [
       "'United_States_TX_Dallas_Resident_Population'"
      ]
     },
     "metadata": {},
     "output_type": "display_data"
    },
    {
     "data": {
      "text/plain": [
       "'United_States_TX_Denton_Resident_Population'"
      ]
     },
     "metadata": {},
     "output_type": "display_data"
    }
   ],
   "source": [
    "def create_filename(row):\n",
    "    # Join the desired fields with underscores\n",
    "    filename = '_'.join(row[['country', 'state', 'county', 'series_Desc']])\n",
    "    # Replace spaces with underscores and remove any problematic characters\n",
    "    filename = filename.replace(' ', '_').replace('/', '_')\n",
    "    return filename\n",
    "\n",
    "for index, row in list_of_series_df.iterrows():\n",
    "    series_id=list_of_series_df.loc[index,'series_id']\n",
    "    url = (f\"https://api.stlouisfed.org/fred/series/observations?series_id={series_id}&api_key={fred_api_key}&file_type=json\")\n",
    "    series = requests.get(url).json()\n",
    "    # Create an empty list to store the reviews\n",
    "    series_list =[]\n",
    "    for item in series[\"observations\"]:\n",
    "        series_list.append(item)      \n",
    "    series_df=pd.DataFrame(series_list)\n",
    "    series_df=series_df.drop(series_df.columns[[0,1]],axis=1)\n",
    "    series_df['date']=pd.to_datetime(series_df['date'])\n",
    "    series_df.set_index('date',inplace=True)\n",
    "    filename = create_filename(row)\n",
    "    display (filename)\n",
    "    file_path = f\"../resources/{filename}.csv\"  # Construct file path with .csv extension\n",
    "    series_df.to_csv(file_path, index=True)"
   ]
  }
 ],
 "metadata": {
  "kernelspec": {
   "display_name": "dev",
   "language": "python",
   "name": "dev"
  },
  "language_info": {
   "codemirror_mode": {
    "name": "ipython",
    "version": 3
   },
   "file_extension": ".py",
   "mimetype": "text/x-python",
   "name": "python",
   "nbconvert_exporter": "python",
   "pygments_lexer": "ipython3",
   "version": "3.10.13"
  }
 },
 "nbformat": 4,
 "nbformat_minor": 2
}
