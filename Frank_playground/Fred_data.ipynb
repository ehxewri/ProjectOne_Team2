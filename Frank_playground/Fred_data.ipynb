{
 "cells": [
  {
   "cell_type": "code",
   "execution_count": 1,
   "metadata": {},
   "outputs": [],
   "source": [
    "# Dependencies\n",
    "import requests\n",
    "from dotenv import load_dotenv\n",
    "import os\n",
    "import pandas as pd"
   ]
  },
  {
   "cell_type": "markdown",
   "metadata": {},
   "source": [
    "https://api.stlouisfed.org/fred/category/series?category_id=125&api_key=abcdefghijklmnopqrstuvwxyz123456\n",
    "https://fred.stlouisfed.org/docs/api/fred/category_series.html#Description "
   ]
  },
  {
   "cell_type": "code",
   "execution_count": 2,
   "metadata": {},
   "outputs": [
    {
     "name": "stdout",
     "output_type": "stream",
     "text": [
      "All keys loaded correctly\n"
     ]
    }
   ],
   "source": [
    "# Set environment variables from the .env in the local environment\n",
    "def key_check(key_path=None):\n",
    "    try:\n",
    "        reply=load_dotenv(key_path,verbose=True,override=True)   \n",
    "        assert reply , 'Dotenv is not found'\n",
    "        fred_api_key = os.getenv(\"FRED_API_KEY\")\n",
    "        assert fred_api_key is not None, 'FRED_API_KEY not found in .env file'\n",
    "        responce=requests.get(f'https://api.stlouisfed.org/fred/category/series?category_id=125&api_key={fred_api_key}')\n",
    "        assert responce.status_code == 200, f'The key provided failed to authenticate tmdb_api_key {fred_api_key} code {responce.status_code}'\n",
    "    except Exception as e:\n",
    "        # Handle potential errors in loading .env or missing API keys\n",
    "        print(f'An error occurred: {e}')\n",
    "        return(False)\n",
    "    else:\n",
    "        print('All keys loaded correctly')\n",
    "        return (True)\n",
    "my_env_path='C:\\SRC\\AI\\ProjectOne_Team2\\Frank_playground\\keys.env'\n",
    "if key_check(my_env_path):\n",
    "    fred_api_key = os.getenv(\"FRED_API_KEY\")\n",
    "else:\n",
    "    print ('fix Keys and rerun')"
   ]
  },
  {
   "cell_type": "code",
   "execution_count": 3,
   "metadata": {},
   "outputs": [],
   "source": [
    "# read the file into a list\n",
    "list_of_series_df = pd.read_csv('C:\\SRC\\AI\\ProjectOne_Team2\\Frank_playground\\list_of_series.csv')"
   ]
  },
  {
   "cell_type": "code",
   "execution_count": 4,
   "metadata": {},
   "outputs": [],
   "source": [
    "#  Set the base URL\n",
    "series_id=''\n",
    "url = (f\"https://api.stlouisfed.org/fred/series/observations?series_id={series_id}&api_key={fred_api_key}&file_type=json\")"
   ]
  },
  {
   "cell_type": "code",
   "execution_count": 5,
   "metadata": {},
   "outputs": [],
   "source": [
    "def create_filename(row):\n",
    "    # Join the desired fields with underscores\n",
    "    filename = '_'.join(row[['country', 'state', 'county', 'series_Desc']])\n",
    "    # Replace spaces with underscores and remove any problematic characters\n",
    "    filename = filename.replace(' ', '_').replace('/', '_')\n",
    "    return filename"
   ]
  },
  {
   "cell_type": "code",
   "execution_count": 6,
   "metadata": {},
   "outputs": [],
   "source": [
    "\n",
    "for index, row in list_of_series_df.iterrows():\n",
    "    series_id=list_of_series_df.loc[index,'series_id']\n",
    "    url = (f\"https://api.stlouisfed.org/fred/series/observations?series_id={series_id}&api_key={fred_api_key}&file_type=json\")\n",
    "    series = requests.get(url).json()\n",
    "    # Create an empty list to store the reviews\n",
    "    series_list =[]\n",
    "    for item in series[\"observations\"]:\n",
    "        if item['value'] != '.':\n",
    "            series_list.append(item)      \n",
    "    # Clean Data\n",
    "    series_df = pd.DataFrame(series_list)\n",
    "    series_df = (\n",
    "        series_df\n",
    "        .drop(series_df.columns[[0, 1]], axis=1)\n",
    "        .assign(date=lambda df: pd.to_datetime(df['date']))\n",
    "        .set_index('date')\n",
    "        .dropna()\n",
    "    )\n",
    "    # CREATE A FILENAME AND WRITE THE DATA TO THE FILE.\n",
    "    filename = create_filename(row)\n",
    "    list_of_series_df['filename']=list_of_series_df.apply(create_filename, axis=1)\n",
    "    file_path = f\"../resources/{filename}.csv\"  # Construct file path with .csv extension\n",
    "    series_df.to_csv(file_path, index=True)"
   ]
  },
  {
   "cell_type": "code",
   "execution_count": 7,
   "metadata": {},
   "outputs": [
    {
     "data": {
      "text/html": [
       "<div>\n",
       "<style scoped>\n",
       "    .dataframe tbody tr th:only-of-type {\n",
       "        vertical-align: middle;\n",
       "    }\n",
       "\n",
       "    .dataframe tbody tr th {\n",
       "        vertical-align: top;\n",
       "    }\n",
       "\n",
       "    .dataframe thead th {\n",
       "        text-align: right;\n",
       "    }\n",
       "</style>\n",
       "<table border=\"1\" class=\"dataframe\">\n",
       "  <thead>\n",
       "    <tr style=\"text-align: right;\">\n",
       "      <th></th>\n",
       "      <th>country</th>\n",
       "      <th>state</th>\n",
       "      <th>county</th>\n",
       "      <th>series_Desc</th>\n",
       "      <th>series_id</th>\n",
       "      <th>filename</th>\n",
       "    </tr>\n",
       "  </thead>\n",
       "  <tbody>\n",
       "    <tr>\n",
       "      <th>0</th>\n",
       "      <td>United States</td>\n",
       "      <td>TX</td>\n",
       "      <td>Collin</td>\n",
       "      <td>House Price Index</td>\n",
       "      <td>ATNHPIUS48085A</td>\n",
       "      <td>United_States_TX_Collin_House_Price_Index</td>\n",
       "    </tr>\n",
       "    <tr>\n",
       "      <th>1</th>\n",
       "      <td>United States</td>\n",
       "      <td>TX</td>\n",
       "      <td>Dallas</td>\n",
       "      <td>House Price Index</td>\n",
       "      <td>ATNHPIUS48113A</td>\n",
       "      <td>United_States_TX_Dallas_House_Price_Index</td>\n",
       "    </tr>\n",
       "    <tr>\n",
       "      <th>2</th>\n",
       "      <td>United States</td>\n",
       "      <td>TX</td>\n",
       "      <td>Denton</td>\n",
       "      <td>House Price Index</td>\n",
       "      <td>ATNHPIUS48121A</td>\n",
       "      <td>United_States_TX_Denton_House_Price_Index</td>\n",
       "    </tr>\n",
       "    <tr>\n",
       "      <th>3</th>\n",
       "      <td>United States</td>\n",
       "      <td>TX</td>\n",
       "      <td>Collin</td>\n",
       "      <td>Household Income</td>\n",
       "      <td>MHITX48085A052NCEN</td>\n",
       "      <td>United_States_TX_Collin_Household_Income</td>\n",
       "    </tr>\n",
       "    <tr>\n",
       "      <th>4</th>\n",
       "      <td>United States</td>\n",
       "      <td>TX</td>\n",
       "      <td>Dallas</td>\n",
       "      <td>Household Income</td>\n",
       "      <td>MHITX48113A052NCEN</td>\n",
       "      <td>United_States_TX_Dallas_Household_Income</td>\n",
       "    </tr>\n",
       "    <tr>\n",
       "      <th>5</th>\n",
       "      <td>United States</td>\n",
       "      <td>TX</td>\n",
       "      <td>Denton</td>\n",
       "      <td>Household Income</td>\n",
       "      <td>MHITX48121A052NCEN</td>\n",
       "      <td>United_States_TX_Denton_Household_Income</td>\n",
       "    </tr>\n",
       "    <tr>\n",
       "      <th>6</th>\n",
       "      <td>United States</td>\n",
       "      <td>TX</td>\n",
       "      <td>Collin</td>\n",
       "      <td>Resident Population</td>\n",
       "      <td>TXCOLL5POP</td>\n",
       "      <td>United_States_TX_Collin_Resident_Population</td>\n",
       "    </tr>\n",
       "    <tr>\n",
       "      <th>7</th>\n",
       "      <td>United States</td>\n",
       "      <td>TX</td>\n",
       "      <td>Dallas</td>\n",
       "      <td>Resident Population</td>\n",
       "      <td>TXDALL3POP</td>\n",
       "      <td>United_States_TX_Dallas_Resident_Population</td>\n",
       "    </tr>\n",
       "    <tr>\n",
       "      <th>8</th>\n",
       "      <td>United States</td>\n",
       "      <td>TX</td>\n",
       "      <td>Denton</td>\n",
       "      <td>Resident Population</td>\n",
       "      <td>TXDENT2POP</td>\n",
       "      <td>United_States_TX_Denton_Resident_Population</td>\n",
       "    </tr>\n",
       "  </tbody>\n",
       "</table>\n",
       "</div>"
      ],
      "text/plain": [
       "         country state  county          series_Desc           series_id  \\\n",
       "0  United States    TX  Collin    House Price Index      ATNHPIUS48085A   \n",
       "1  United States    TX  Dallas    House Price Index      ATNHPIUS48113A   \n",
       "2  United States    TX  Denton    House Price Index      ATNHPIUS48121A   \n",
       "3  United States    TX  Collin     Household Income  MHITX48085A052NCEN   \n",
       "4  United States    TX  Dallas     Household Income  MHITX48113A052NCEN   \n",
       "5  United States    TX  Denton     Household Income  MHITX48121A052NCEN   \n",
       "6  United States    TX  Collin  Resident Population          TXCOLL5POP   \n",
       "7  United States    TX  Dallas  Resident Population          TXDALL3POP   \n",
       "8  United States    TX  Denton  Resident Population          TXDENT2POP   \n",
       "\n",
       "                                      filename  \n",
       "0    United_States_TX_Collin_House_Price_Index  \n",
       "1    United_States_TX_Dallas_House_Price_Index  \n",
       "2    United_States_TX_Denton_House_Price_Index  \n",
       "3     United_States_TX_Collin_Household_Income  \n",
       "4     United_States_TX_Dallas_Household_Income  \n",
       "5     United_States_TX_Denton_Household_Income  \n",
       "6  United_States_TX_Collin_Resident_Population  \n",
       "7  United_States_TX_Dallas_Resident_Population  \n",
       "8  United_States_TX_Denton_Resident_Population  "
      ]
     },
     "metadata": {},
     "output_type": "display_data"
    }
   ],
   "source": [
    "list_of_series_df.to_csv('C:/SRC/AI/ProjectOne_Team2/Frank_playground/output_filename.csv', index=False)\n",
    "display (list_of_series_df)"
   ]
  }
 ],
 "metadata": {
  "kernelspec": {
   "display_name": "dev",
   "language": "python",
   "name": "dev"
  },
  "language_info": {
   "codemirror_mode": {
    "name": "ipython",
    "version": 3
   },
   "file_extension": ".py",
   "mimetype": "text/x-python",
   "name": "python",
   "nbconvert_exporter": "python",
   "pygments_lexer": "ipython3",
   "version": "3.10.13"
  }
 },
 "nbformat": 4,
 "nbformat_minor": 2
}
