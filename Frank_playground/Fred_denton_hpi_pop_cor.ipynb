import pandas as pd
import hvplot.pandas
import matplotlib.pyplot as plt