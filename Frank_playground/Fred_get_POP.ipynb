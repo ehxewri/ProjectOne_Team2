{
 "cells": [
  {
   "cell_type": "code",
   "execution_count": 1,
   "metadata": {
    "execution": {
     "iopub.execute_input": "2024-04-21T20:44:23.775075Z",
     "iopub.status.busy": "2024-04-21T20:44:23.774105Z",
     "iopub.status.idle": "2024-04-21T20:44:25.869796Z",
     "shell.execute_reply": "2024-04-21T20:44:25.866831Z"
    }
   },
   "outputs": [],
   "source": [
    "import requests\n",
    "from dotenv import load_dotenv\n",
    "import os\n",
    "import pandas as pd\n",
    "from bs4 import BeautifulSoup\n",
    "from requests.exceptions import ConnectTimeout, ReadTimeout, RequestException\n",
    "import itertools\n",
    "\n"
   ]
  },
  {
   "cell_type": "code",
   "execution_count": 2,
   "metadata": {
    "execution": {
     "iopub.execute_input": "2024-04-21T20:44:25.884956Z",
     "iopub.status.busy": "2024-04-21T20:44:25.883953Z",
     "iopub.status.idle": "2024-04-21T20:44:25.901507Z",
     "shell.execute_reply": "2024-04-21T20:44:25.898936Z"
    }
   },
   "outputs": [],
   "source": [
    "# this section of code make a request and permits up to max_retries \n",
    "def get_page(url, max_retries=3):\n",
    "    retries = 0\n",
    "    while retries < max_retries:\n",
    "        try:\n",
    "            # Attempt to make the HTTP GET request with a specified timeout\n",
    "            response = requests.get(url, timeout=2)  # adding a sensible timeout\n",
    "            # If the request is successful, break out of the loop\n",
    "            if response.status_code == 200:\n",
    "                return response.text\n",
    "            if response.status_code == 404:\n",
    "                return None , None\n",
    "        except (ConnectTimeout, ReadTimeout) as e:\n",
    "            # Print an error message showing the retry attempt\n",
    "            print(f\"Attempt {retries + 1} of {max_retries} failed with timeout. Retrying...\")\n",
    "            retries += 1\n",
    "            if retries == max_retries:\n",
    "                print(\"Max retries exceeded. Failing...\")\n",
    "                raise  # Re-raise the last exception after final attempt\n",
    "        except RequestException as e:\n",
    "            print(f\"Attempt {retries + 1} failed with a request exception: {e}. Retrying...\")\n",
    "            retries += 1\n",
    "            if retries == max_retries:\n",
    "                print(\"Max retries exceeded with request exceptions. Failing...\")\n",
    "                raise\n",
    "        except: \n",
    "            return None, None\n",
    "\n",
    "    # If all retries are exhausted without a return, it indicates a failure\n",
    "    print(\"Request failed after maximum retries.\")\n",
    "    return None, None\n"
   ]
  },
  {
   "cell_type": "code",
   "execution_count": 3,
   "metadata": {
    "execution": {
     "iopub.execute_input": "2024-04-21T20:44:25.914018Z",
     "iopub.status.busy": "2024-04-21T20:44:25.910648Z",
     "iopub.status.idle": "2024-04-21T20:44:26.315903Z",
     "shell.execute_reply": "2024-04-21T20:44:26.311910Z"
    }
   },
   "outputs": [],
   "source": [
    "def get_county_abbr():\n",
    "    # Example URL\n",
    "    url = \"https://fred.stlouisfed.org/categories/29898\"\n",
    "\n",
    "    # Fetch the webpage\n",
    "    response = get_page(url)\n",
    "\n",
    "\n",
    "    # Parse the HTML\n",
    "    soup = BeautifulSoup(response, 'html.parser')\n",
    "\n",
    "    # Assuming county_tags are correctly selected from the parsed HTML\n",
    "    county_tags = soup.find_all('a', href=lambda href: href and \"categories\" in href)\n",
    "\n",
    "    # Process and collect county names\n",
    "    counties_nospace = [tag.get_text().strip().replace(\" \", \"\")[:4].upper() for tag in county_tags if 'County' in tag.get_text()]\n",
    "\n",
    "    # Print results\n",
    "    print(counties_nospace)\n",
    "    return counties_nospace\n"
   ]
  },
  {
   "cell_type": "code",
   "execution_count": 4,
   "metadata": {
    "execution": {
     "iopub.execute_input": "2024-04-21T20:44:26.323392Z",
     "iopub.status.busy": "2024-04-21T20:44:26.322392Z",
     "iopub.status.idle": "2024-04-21T20:44:26.474434Z",
     "shell.execute_reply": "2024-04-21T20:44:26.472436Z"
    }
   },
   "outputs": [],
   "source": [
    "# this section of code make a request and permits up to max_retries \n",
    "def make_request_with_retries(url, max_retries=3):\n",
    "    retries = 0\n",
    "    while retries < max_retries:\n",
    "        try:\n",
    "            # Attempt to make the HTTP GET request with a specified timeout\n",
    "            response = requests.get(url, timeout=2)  # adding a sensible timeout\n",
    "            # If the request is successful, break out of the loop\n",
    "            if response.status_code == 200:\n",
    "                if response:\n",
    "                    print(f\"Request succeeded for {url}\")\n",
    "                    # Parse the HTML content\n",
    "                    soup = BeautifulSoup(response.text, 'html.parser')\n",
    "                    # Find the <title> tag\n",
    "                    title_tag = soup.find('title')\n",
    "                    # Extract the text from the <title> tag\n",
    "                    title_text = title_tag.text if title_tag else None\n",
    "                    # Add the title text to the list if it exists\n",
    "                    if title_text:\n",
    "                        # Split the string to isolate the part before the first '|'\n",
    "                        main_part = title_text.split('|')[0].strip().replace(\"Resident Population in \", \"\")\n",
    "                        # Extract the county name; it's always followed by \", TX\"\n",
    "                        county = main_part.split(\", TX\")[0].split('for ')[-1].strip()\n",
    "                        # Extract the series ID; it's always within parentheses\n",
    "                        series_id = main_part.split('(')[-1].split(')')[0].strip()\n",
    "                        display (f' county  {county} series id {series_id}')\n",
    "                return county,series_id\n",
    "            if response.status_code == 404:\n",
    "                return None , None\n",
    "        except (ConnectTimeout, ReadTimeout) as e:\n",
    "            # Print an error message showing the retry attempt\n",
    "            print(f\"Attempt {retries + 1} of {max_retries} failed with timeout. Retrying...\")\n",
    "            retries += 1\n",
    "            if retries == max_retries:\n",
    "                print(\"Max retries exceeded. Failing...\")\n",
    "                raise  # Re-raise the last exception after final attempt\n",
    "        except RequestException as e:\n",
    "            print(f\"Attempt {retries + 1} failed with a request exception: {e}. Retrying...\")\n",
    "            retries += 1\n",
    "            if retries == max_retries:\n",
    "                print(\"Max retries exceeded with request exceptions. Failing...\")\n",
    "                raise\n",
    "        except: \n",
    "            return None, None\n",
    "\n",
    "    # If all retries are exhausted without a return, it indicates a failure\n",
    "    print(\"Request failed after maximum retries.\")\n",
    "    return None, None\n"
   ]
  },
  {
   "cell_type": "code",
   "execution_count": 5,
   "metadata": {
    "execution": {
     "iopub.execute_input": "2024-04-21T20:44:26.486848Z",
     "iopub.status.busy": "2024-04-21T20:44:26.484853Z",
     "iopub.status.idle": "2024-04-21T20:44:26.569803Z",
     "shell.execute_reply": "2024-04-21T20:44:26.562795Z"
    }
   },
   "outputs": [],
   "source": [
    "def get_pop_series_id (county_abbr):\n",
    "   \n",
    "    for idx in range (1,10,2):\n",
    "         series_id = f'TX{county_abbr}{idx}POP'\n",
    "         # display (series_id)\n",
    "\n",
    "    return series_id, 'no'"
   ]
  },
  {
   "cell_type": "code",
   "execution_count": 6,
   "metadata": {
    "execution": {
     "iopub.execute_input": "2024-04-21T20:44:26.585005Z",
     "iopub.status.busy": "2024-04-21T20:44:26.584007Z",
     "iopub.status.idle": "2024-04-21T20:55:42.677889Z",
     "shell.execute_reply": "2024-04-21T20:55:42.676936Z"
    }
   },
   "outputs": [
    {
     "name": "stdout",
     "output_type": "stream",
     "text": [
      "['ANDE', 'ANDR', 'ANGE', 'ARAN', 'ARCH', 'ARMS', 'ATAS', 'AUST', 'BAIL', 'BAND', 'BAST', 'BAYL', 'BEEC', 'BELL', 'BEXA', 'BLAN', 'BORD', 'BOSQ', 'BOWI', 'BRAZ', 'BRAZ', 'BREW', 'BRIS', 'BROO', 'BROW', 'BURL', 'BURN', 'CALD', 'CALH', 'CALL', 'CAME', 'CAMP', 'CARS', 'CASS', 'CAST', 'CHAM', 'CHER', 'CHIL', 'CLAY', 'COCH', 'COKE', 'COLE', 'COLL', 'COLL', 'COLO', 'COMA', 'COMA', 'CONC', 'COOK', 'CORY', 'COTT', 'CRAN', 'CROC', 'CROS', 'CULB', 'DALL', 'DALL', 'DAWS', 'DEAF', 'DELT', 'DENT', 'DEWI', 'DICK', 'DIMM', 'DONL', 'DUVA', 'EAST', 'ECTO', 'EDWA', 'ELLI', 'ELPA', 'ERAT', 'FALL', 'FANN', 'FAYE', 'FISH', 'FLOY', 'FOAR', 'FORT', 'FRAN', 'FREE', 'FRIO', 'GAIN', 'GALV', 'GARZ', 'GILL', 'GLAS', 'GOLI', 'GONZ', 'GRAY', 'GRAY', 'GREG', 'GRIM', 'GUAD', 'HALE', 'HALL', 'HAMI', 'HANS', 'HARD', 'HARD', 'HARR', 'HARR', 'HART', 'HASK', 'HAYS', 'HEMP', 'HEND', 'HIDA', 'HILL', 'HOCK', 'HOOD', 'HOPK', 'HOUS', 'HOWA', 'HUDS', 'HUNT', 'HUTC', 'IRIO', 'JACK', 'JACK', 'JASP', 'JEFF', 'JEFF', 'JIMH', 'JIMW', 'JOHN', 'JONE', 'KARN', 'KAUF', 'KEND', 'KENE', 'KENT', 'KERR', 'KIMB', 'KING', 'KINN', 'KLEB', 'KNOX', 'LAMA', 'LAMB', 'LAMP', 'LASA', 'LAVA', 'LEEC', 'LEON', 'LIBE', 'LIME', 'LIPS', 'LIVE', 'LLAN', 'LOVI', 'LUBB', 'LYNN', 'MADI', 'MARI', 'MART', 'MASO', 'MATA', 'MAVE', 'MCCU', 'MCLE', 'MCMU', 'MEDI', 'MENA', 'MIDL', 'MILA', 'MILL', 'MITC', 'MONT', 'MONT', 'MOOR', 'MORR', 'MOTL', 'NACO', 'NAVA', 'NEWT', 'NOLA', 'NUEC', 'OCHI', 'OLDH', 'ORAN', 'PALO', 'PANO', 'PARK', 'PARM', 'PECO', 'POLK', 'POTT', 'PRES', 'RAIN', 'RAND', 'REAG', 'REAL', 'REDR', 'REEV', 'REFU', 'ROBE', 'ROBE', 'ROCK', 'RUNN', 'RUSK', 'SABI', 'SANA', 'SANJ', 'SANP', 'SANS', 'SCHL', 'SCUR', 'SHAC', 'SHEL', 'SHER', 'SMIT', 'SOME', 'STAR', 'STEP', 'STER', 'STON', 'SUTT', 'SWIS', 'TARR', 'TAYL', 'TERR', 'TERR', 'THRO', 'TITU', 'TOMG', 'TRAV', 'TRIN', 'TYLE', 'UPSH', 'UPTO', 'UVAL', 'VALV', 'VANZ', 'VICT', 'WALK', 'WALL', 'WARD', 'WASH', 'WEBB', 'WHAR', 'WHEE', 'WICH', 'WILB', 'WILL', 'WILL', 'WILS', 'WINK', 'WISE', 'WOOD', 'YOAK', 'YOUN', 'ZAPA', 'ZAVA']\n",
      "Request succeeded for https://fred.stlouisfed.org/series/TXANDE1POP\n"
     ]
    },
    {
     "data": {
      "text/plain": [
       "' county  Anderson County series id TXANDE1POP'"
      ]
     },
     "metadata": {},
     "output_type": "display_data"
    },
    {
     "name": "stdout",
     "output_type": "stream",
     "text": [
      "Request succeeded for https://fred.stlouisfed.org/series/TXANDR3POP\n"
     ]
    },
    {
     "data": {
      "text/plain": [
       "' county  Andrews County series id TXANDR3POP'"
      ]
     },
     "metadata": {},
     "output_type": "display_data"
    },
    {
     "name": "stdout",
     "output_type": "stream",
     "text": [
      "Request succeeded for https://fred.stlouisfed.org/series/TXANGE5POP\n"
     ]
    },
    {
     "data": {
      "text/plain": [
       "' county  Angelina County series id TXANGE5POP'"
      ]
     },
     "metadata": {},
     "output_type": "display_data"
    },
    {
     "name": "stdout",
     "output_type": "stream",
     "text": [
      "Request succeeded for https://fred.stlouisfed.org/series/TXARAN7POP\n"
     ]
    },
    {
     "data": {
      "text/plain": [
       "' county  Aransas County series id TXARAN7POP'"
      ]
     },
     "metadata": {},
     "output_type": "display_data"
    },
    {
     "name": "stdout",
     "output_type": "stream",
     "text": [
      "Request succeeded for https://fred.stlouisfed.org/series/TXARCH9POP\n"
     ]
    },
    {
     "data": {
      "text/plain": [
       "' county  Archer County series id TXARCH9POP'"
      ]
     },
     "metadata": {},
     "output_type": "display_data"
    },
    {
     "name": "stdout",
     "output_type": "stream",
     "text": [
      "Request succeeded for https://fred.stlouisfed.org/series/TXARMS1POP\n"
     ]
    },
    {
     "data": {
      "text/plain": [
       "' county  Armstrong County series id TXARMS1POP'"
      ]
     },
     "metadata": {},
     "output_type": "display_data"
    },
    {
     "name": "stdout",
     "output_type": "stream",
     "text": [
      "Request succeeded for https://fred.stlouisfed.org/series/TXATAS3POP\n"
     ]
    },
    {
     "data": {
      "text/plain": [
       "' county  Atascosa County series id TXATAS3POP'"
      ]
     },
     "metadata": {},
     "output_type": "display_data"
    },
    {
     "name": "stdout",
     "output_type": "stream",
     "text": [
      "Request succeeded for https://fred.stlouisfed.org/series/TXAUST5POP\n"
     ]
    },
    {
     "data": {
      "text/plain": [
       "' county  Austin County series id TXAUST5POP'"
      ]
     },
     "metadata": {},
     "output_type": "display_data"
    },
    {
     "name": "stdout",
     "output_type": "stream",
     "text": [
      "Request succeeded for https://fred.stlouisfed.org/series/TXBAIL7POP\n"
     ]
    },
    {
     "data": {
      "text/plain": [
       "' county  Bailey County series id TXBAIL7POP'"
      ]
     },
     "metadata": {},
     "output_type": "display_data"
    },
    {
     "name": "stdout",
     "output_type": "stream",
     "text": [
      "Request succeeded for https://fred.stlouisfed.org/series/TXBAND9POP\n"
     ]
    },
    {
     "data": {
      "text/plain": [
       "' county  Bandera County series id TXBAND9POP'"
      ]
     },
     "metadata": {},
     "output_type": "display_data"
    },
    {
     "name": "stdout",
     "output_type": "stream",
     "text": [
      "Request succeeded for https://fred.stlouisfed.org/series/TXBAST1POP\n"
     ]
    },
    {
     "data": {
      "text/plain": [
       "' county  Bastrop County series id TXBAST1POP'"
      ]
     },
     "metadata": {},
     "output_type": "display_data"
    },
    {
     "name": "stdout",
     "output_type": "stream",
     "text": [
      "Request succeeded for https://fred.stlouisfed.org/series/TXBAYL3POP\n"
     ]
    },
    {
     "data": {
      "text/plain": [
       "' county  Baylor County series id TXBAYL3POP'"
      ]
     },
     "metadata": {},
     "output_type": "display_data"
    },
    {
     "name": "stdout",
     "output_type": "stream",
     "text": [
      "Request succeeded for https://fred.stlouisfed.org/series/TXBEEC5POP\n"
     ]
    },
    {
     "data": {
      "text/plain": [
       "' county  Bee County series id TXBEEC5POP'"
      ]
     },
     "metadata": {},
     "output_type": "display_data"
    },
    {
     "name": "stdout",
     "output_type": "stream",
     "text": [
      "Request succeeded for https://fred.stlouisfed.org/series/TXBELL7POP\n"
     ]
    },
    {
     "data": {
      "text/plain": [
       "' county  Bell County series id TXBELL7POP'"
      ]
     },
     "metadata": {},
     "output_type": "display_data"
    },
    {
     "name": "stdout",
     "output_type": "stream",
     "text": [
      "Request succeeded for https://fred.stlouisfed.org/series/TXBEXA9POP\n"
     ]
    },
    {
     "data": {
      "text/plain": [
       "' county  Bexar County series id TXBEXA9POP'"
      ]
     },
     "metadata": {},
     "output_type": "display_data"
    },
    {
     "name": "stdout",
     "output_type": "stream",
     "text": [
      "Request succeeded for https://fred.stlouisfed.org/series/TXBLAN1POP\n"
     ]
    },
    {
     "data": {
      "text/plain": [
       "' county  Blanco County series id TXBLAN1POP'"
      ]
     },
     "metadata": {},
     "output_type": "display_data"
    },
    {
     "name": "stdout",
     "output_type": "stream",
     "text": [
      "Request succeeded for https://fred.stlouisfed.org/series/TXBORD3POP\n"
     ]
    },
    {
     "data": {
      "text/plain": [
       "' county  Borden County series id TXBORD3POP'"
      ]
     },
     "metadata": {},
     "output_type": "display_data"
    },
    {
     "name": "stdout",
     "output_type": "stream",
     "text": [
      "Request succeeded for https://fred.stlouisfed.org/series/TXBOSQ5POP\n"
     ]
    },
    {
     "data": {
      "text/plain": [
       "' county  Bosque County series id TXBOSQ5POP'"
      ]
     },
     "metadata": {},
     "output_type": "display_data"
    },
    {
     "name": "stdout",
     "output_type": "stream",
     "text": [
      "Request succeeded for https://fred.stlouisfed.org/series/TXBOWI7POP\n"
     ]
    },
    {
     "data": {
      "text/plain": [
       "' county  Bowie County series id TXBOWI7POP'"
      ]
     },
     "metadata": {},
     "output_type": "display_data"
    },
    {
     "name": "stdout",
     "output_type": "stream",
     "text": [
      "Request succeeded for https://fred.stlouisfed.org/series/TXBRAZ3POP\n"
     ]
    },
    {
     "data": {
      "text/plain": [
       "' county  Brazos County series id TXBRAZ3POP'"
      ]
     },
     "metadata": {},
     "output_type": "display_data"
    },
    {
     "data": {
      "text/plain": [
       "'this is the dup abbr code TXBRAZ3POP'"
      ]
     },
     "metadata": {},
     "output_type": "display_data"
    },
    {
     "name": "stdout",
     "output_type": "stream",
     "text": [
      "Request succeeded for https://fred.stlouisfed.org/series/TXBRAZ0POP\n"
     ]
    },
    {
     "data": {
      "text/plain": [
       "' county  Brazoria County series id TXBRAZ0POP'"
      ]
     },
     "metadata": {},
     "output_type": "display_data"
    },
    {
     "name": "stdout",
     "output_type": "stream",
     "text": [
      "Request succeeded for https://fred.stlouisfed.org/series/TXBREW3POP\n"
     ]
    },
    {
     "data": {
      "text/plain": [
       "' county  Brewster County series id TXBREW3POP'"
      ]
     },
     "metadata": {},
     "output_type": "display_data"
    },
    {
     "name": "stdout",
     "output_type": "stream",
     "text": [
      "Request succeeded for https://fred.stlouisfed.org/series/TXBRIS5POP\n"
     ]
    },
    {
     "data": {
      "text/plain": [
       "' county  Briscoe County series id TXBRIS5POP'"
      ]
     },
     "metadata": {},
     "output_type": "display_data"
    },
    {
     "name": "stdout",
     "output_type": "stream",
     "text": [
      "Request succeeded for https://fred.stlouisfed.org/series/TXBROO7POP\n"
     ]
    },
    {
     "data": {
      "text/plain": [
       "' county  Brooks County series id TXBROO7POP'"
      ]
     },
     "metadata": {},
     "output_type": "display_data"
    },
    {
     "name": "stdout",
     "output_type": "stream",
     "text": [
      "Request succeeded for https://fred.stlouisfed.org/series/TXBROW9POP\n"
     ]
    },
    {
     "data": {
      "text/plain": [
       "' county  Brown County series id TXBROW9POP'"
      ]
     },
     "metadata": {},
     "output_type": "display_data"
    },
    {
     "name": "stdout",
     "output_type": "stream",
     "text": [
      "Request succeeded for https://fred.stlouisfed.org/series/TXBURL1POP\n"
     ]
    },
    {
     "data": {
      "text/plain": [
       "' county  Burleson County series id TXBURL1POP'"
      ]
     },
     "metadata": {},
     "output_type": "display_data"
    },
    {
     "name": "stdout",
     "output_type": "stream",
     "text": [
      "Request succeeded for https://fred.stlouisfed.org/series/TXBURN3POP\n"
     ]
    },
    {
     "data": {
      "text/plain": [
       "' county  Burnet County series id TXBURN3POP'"
      ]
     },
     "metadata": {},
     "output_type": "display_data"
    },
    {
     "name": "stdout",
     "output_type": "stream",
     "text": [
      "Request succeeded for https://fred.stlouisfed.org/series/TXCALD5POP\n"
     ]
    },
    {
     "data": {
      "text/plain": [
       "' county  Caldwell County series id TXCALD5POP'"
      ]
     },
     "metadata": {},
     "output_type": "display_data"
    },
    {
     "name": "stdout",
     "output_type": "stream",
     "text": [
      "Request succeeded for https://fred.stlouisfed.org/series/TXCALH7POP\n"
     ]
    },
    {
     "data": {
      "text/plain": [
       "' county  Calhoun County series id TXCALH7POP'"
      ]
     },
     "metadata": {},
     "output_type": "display_data"
    },
    {
     "name": "stdout",
     "output_type": "stream",
     "text": [
      "Request succeeded for https://fred.stlouisfed.org/series/TXCALL9POP\n"
     ]
    },
    {
     "data": {
      "text/plain": [
       "' county  Callahan County series id TXCALL9POP'"
      ]
     },
     "metadata": {},
     "output_type": "display_data"
    },
    {
     "name": "stdout",
     "output_type": "stream",
     "text": [
      "Request succeeded for https://fred.stlouisfed.org/series/TXCAME2POP\n"
     ]
    },
    {
     "data": {
      "text/plain": [
       "' county  Cameron County series id TXCAME2POP'"
      ]
     },
     "metadata": {},
     "output_type": "display_data"
    },
    {
     "name": "stdout",
     "output_type": "stream",
     "text": [
      "Request succeeded for https://fred.stlouisfed.org/series/TXCAMP3POP\n"
     ]
    },
    {
     "data": {
      "text/plain": [
       "' county  Camp County series id TXCAMP3POP'"
      ]
     },
     "metadata": {},
     "output_type": "display_data"
    },
    {
     "name": "stdout",
     "output_type": "stream",
     "text": [
      "Request succeeded for https://fred.stlouisfed.org/series/TXCARS5POP\n"
     ]
    },
    {
     "data": {
      "text/plain": [
       "' county  Carson County series id TXCARS5POP'"
      ]
     },
     "metadata": {},
     "output_type": "display_data"
    },
    {
     "name": "stdout",
     "output_type": "stream",
     "text": [
      "Request succeeded for https://fred.stlouisfed.org/series/TXCASS7POP\n"
     ]
    },
    {
     "data": {
      "text/plain": [
       "' county  Cass County series id TXCASS7POP'"
      ]
     },
     "metadata": {},
     "output_type": "display_data"
    },
    {
     "name": "stdout",
     "output_type": "stream",
     "text": [
      "Request succeeded for https://fred.stlouisfed.org/series/TXCAST9POP\n"
     ]
    },
    {
     "data": {
      "text/plain": [
       "' county  Castro County series id TXCAST9POP'"
      ]
     },
     "metadata": {},
     "output_type": "display_data"
    },
    {
     "name": "stdout",
     "output_type": "stream",
     "text": [
      "Request succeeded for https://fred.stlouisfed.org/series/TXCHAM1POP\n"
     ]
    },
    {
     "data": {
      "text/plain": [
       "' county  Chambers County series id TXCHAM1POP'"
      ]
     },
     "metadata": {},
     "output_type": "display_data"
    },
    {
     "name": "stdout",
     "output_type": "stream",
     "text": [
      "Request succeeded for https://fred.stlouisfed.org/series/TXCHER3POP\n"
     ]
    },
    {
     "data": {
      "text/plain": [
       "' county  Cherokee County series id TXCHER3POP'"
      ]
     },
     "metadata": {},
     "output_type": "display_data"
    },
    {
     "name": "stdout",
     "output_type": "stream",
     "text": [
      "Request succeeded for https://fred.stlouisfed.org/series/TXCHIL5POP\n"
     ]
    },
    {
     "data": {
      "text/plain": [
       "' county  Childress County series id TXCHIL5POP'"
      ]
     },
     "metadata": {},
     "output_type": "display_data"
    },
    {
     "name": "stdout",
     "output_type": "stream",
     "text": [
      "Request succeeded for https://fred.stlouisfed.org/series/TXCLAY7POP\n"
     ]
    },
    {
     "data": {
      "text/plain": [
       "' county  Clay County series id TXCLAY7POP'"
      ]
     },
     "metadata": {},
     "output_type": "display_data"
    },
    {
     "name": "stdout",
     "output_type": "stream",
     "text": [
      "Request succeeded for https://fred.stlouisfed.org/series/TXCOCH9POP\n"
     ]
    },
    {
     "data": {
      "text/plain": [
       "' county  Cochran County series id TXCOCH9POP'"
      ]
     },
     "metadata": {},
     "output_type": "display_data"
    },
    {
     "name": "stdout",
     "output_type": "stream",
     "text": [
      "Request succeeded for https://fred.stlouisfed.org/series/TXCOKE1POP\n"
     ]
    },
    {
     "data": {
      "text/plain": [
       "' county  Coke County series id TXCOKE1POP'"
      ]
     },
     "metadata": {},
     "output_type": "display_data"
    },
    {
     "name": "stdout",
     "output_type": "stream",
     "text": [
      "Request succeeded for https://fred.stlouisfed.org/series/TXCOLE3POP\n"
     ]
    },
    {
     "data": {
      "text/plain": [
       "' county  Coleman County series id TXCOLE3POP'"
      ]
     },
     "metadata": {},
     "output_type": "display_data"
    },
    {
     "name": "stdout",
     "output_type": "stream",
     "text": [
      "Request succeeded for https://fred.stlouisfed.org/series/TXCOLL5POP\n"
     ]
    },
    {
     "data": {
      "text/plain": [
       "' county  Collin County series id TXCOLL5POP'"
      ]
     },
     "metadata": {},
     "output_type": "display_data"
    },
    {
     "data": {
      "text/plain": [
       "'this is the dup abbr code TXCOLL5POP'"
      ]
     },
     "metadata": {},
     "output_type": "display_data"
    },
    {
     "name": "stdout",
     "output_type": "stream",
     "text": [
      "Request succeeded for https://fred.stlouisfed.org/series/TXCOLL7POP\n"
     ]
    },
    {
     "data": {
      "text/plain": [
       "' county  Collingsworth County series id TXCOLL7POP'"
      ]
     },
     "metadata": {},
     "output_type": "display_data"
    },
    {
     "name": "stdout",
     "output_type": "stream",
     "text": [
      "Request succeeded for https://fred.stlouisfed.org/series/TXCOLO9POP\n"
     ]
    },
    {
     "data": {
      "text/plain": [
       "' county  Colorado County series id TXCOLO9POP'"
      ]
     },
     "metadata": {},
     "output_type": "display_data"
    },
    {
     "name": "stdout",
     "output_type": "stream",
     "text": [
      "Request succeeded for https://fred.stlouisfed.org/series/TXCOMA1POP\n"
     ]
    },
    {
     "data": {
      "text/plain": [
       "' county  Comal County series id TXCOMA1POP'"
      ]
     },
     "metadata": {},
     "output_type": "display_data"
    },
    {
     "data": {
      "text/plain": [
       "'this is the dup abbr code TXCOMA1POP'"
      ]
     },
     "metadata": {},
     "output_type": "display_data"
    },
    {
     "name": "stdout",
     "output_type": "stream",
     "text": [
      "Request succeeded for https://fred.stlouisfed.org/series/TXCOMA3POP\n"
     ]
    },
    {
     "data": {
      "text/plain": [
       "' county  Comanche County series id TXCOMA3POP'"
      ]
     },
     "metadata": {},
     "output_type": "display_data"
    },
    {
     "name": "stdout",
     "output_type": "stream",
     "text": [
      "Request succeeded for https://fred.stlouisfed.org/series/TXCONC5POP\n"
     ]
    },
    {
     "data": {
      "text/plain": [
       "' county  Concho County series id TXCONC5POP'"
      ]
     },
     "metadata": {},
     "output_type": "display_data"
    },
    {
     "name": "stdout",
     "output_type": "stream",
     "text": [
      "Attempt 1 of 3 failed with timeout. Retrying...\n",
      "Request succeeded for https://fred.stlouisfed.org/series/TXCOOK7POP\n"
     ]
    },
    {
     "data": {
      "text/plain": [
       "' county  Cooke County series id TXCOOK7POP'"
      ]
     },
     "metadata": {},
     "output_type": "display_data"
    },
    {
     "name": "stdout",
     "output_type": "stream",
     "text": [
      "Request succeeded for https://fred.stlouisfed.org/series/TXCORY0POP\n"
     ]
    },
    {
     "data": {
      "text/plain": [
       "' county  Coryell County series id TXCORY0POP'"
      ]
     },
     "metadata": {},
     "output_type": "display_data"
    },
    {
     "name": "stdout",
     "output_type": "stream",
     "text": [
      "Request succeeded for https://fred.stlouisfed.org/series/TXCOTT1POP\n"
     ]
    },
    {
     "data": {
      "text/plain": [
       "' county  Cottle County series id TXCOTT1POP'"
      ]
     },
     "metadata": {},
     "output_type": "display_data"
    },
    {
     "name": "stdout",
     "output_type": "stream",
     "text": [
      "Request succeeded for https://fred.stlouisfed.org/series/TXCRAN3POP\n"
     ]
    },
    {
     "data": {
      "text/plain": [
       "' county  Crane County series id TXCRAN3POP'"
      ]
     },
     "metadata": {},
     "output_type": "display_data"
    },
    {
     "name": "stdout",
     "output_type": "stream",
     "text": [
      "Request succeeded for https://fred.stlouisfed.org/series/TXCROC5POP\n"
     ]
    },
    {
     "data": {
      "text/plain": [
       "' county  Crockett County series id TXCROC5POP'"
      ]
     },
     "metadata": {},
     "output_type": "display_data"
    },
    {
     "name": "stdout",
     "output_type": "stream",
     "text": [
      "Request succeeded for https://fred.stlouisfed.org/series/TXCROS7POP\n"
     ]
    },
    {
     "data": {
      "text/plain": [
       "' county  Crosby County series id TXCROS7POP'"
      ]
     },
     "metadata": {},
     "output_type": "display_data"
    },
    {
     "name": "stdout",
     "output_type": "stream",
     "text": [
      "Request succeeded for https://fred.stlouisfed.org/series/TXCULB9POP\n"
     ]
    },
    {
     "data": {
      "text/plain": [
       "' county  Culberson County series id TXCULB9POP'"
      ]
     },
     "metadata": {},
     "output_type": "display_data"
    },
    {
     "name": "stdout",
     "output_type": "stream",
     "text": [
      "Request succeeded for https://fred.stlouisfed.org/series/TXDALL1POP\n"
     ]
    },
    {
     "data": {
      "text/plain": [
       "' county  Dallam County series id TXDALL1POP'"
      ]
     },
     "metadata": {},
     "output_type": "display_data"
    },
    {
     "data": {
      "text/plain": [
       "'this is the dup abbr code TXDALL1POP'"
      ]
     },
     "metadata": {},
     "output_type": "display_data"
    },
    {
     "name": "stdout",
     "output_type": "stream",
     "text": [
      "Request succeeded for https://fred.stlouisfed.org/series/TXDALL3POP\n"
     ]
    },
    {
     "data": {
      "text/plain": [
       "' county  Dallas County series id TXDALL3POP'"
      ]
     },
     "metadata": {},
     "output_type": "display_data"
    },
    {
     "name": "stdout",
     "output_type": "stream",
     "text": [
      "Request succeeded for https://fred.stlouisfed.org/series/TXDAWS5POP\n"
     ]
    },
    {
     "data": {
      "text/plain": [
       "' county  Dawson County series id TXDAWS5POP'"
      ]
     },
     "metadata": {},
     "output_type": "display_data"
    },
    {
     "name": "stdout",
     "output_type": "stream",
     "text": [
      "Request succeeded for https://fred.stlouisfed.org/series/TXDEAF7POP\n"
     ]
    },
    {
     "data": {
      "text/plain": [
       "' county  Deaf Smith County series id TXDEAF7POP'"
      ]
     },
     "metadata": {},
     "output_type": "display_data"
    },
    {
     "name": "stdout",
     "output_type": "stream",
     "text": [
      "Request succeeded for https://fred.stlouisfed.org/series/TXDELT9POP\n"
     ]
    },
    {
     "data": {
      "text/plain": [
       "' county  Delta County series id TXDELT9POP'"
      ]
     },
     "metadata": {},
     "output_type": "display_data"
    },
    {
     "name": "stdout",
     "output_type": "stream",
     "text": [
      "Request succeeded for https://fred.stlouisfed.org/series/TXDENT2POP\n"
     ]
    },
    {
     "data": {
      "text/plain": [
       "' county  Denton County series id TXDENT2POP'"
      ]
     },
     "metadata": {},
     "output_type": "display_data"
    },
    {
     "name": "stdout",
     "output_type": "stream",
     "text": [
      "Request succeeded for https://fred.stlouisfed.org/series/TXDEWI3POP\n"
     ]
    },
    {
     "data": {
      "text/plain": [
       "' county  DeWitt County series id TXDEWI3POP'"
      ]
     },
     "metadata": {},
     "output_type": "display_data"
    },
    {
     "name": "stdout",
     "output_type": "stream",
     "text": [
      "Request succeeded for https://fred.stlouisfed.org/series/TXDICK5POP\n"
     ]
    },
    {
     "data": {
      "text/plain": [
       "' county  Dickens County series id TXDICK5POP'"
      ]
     },
     "metadata": {},
     "output_type": "display_data"
    },
    {
     "name": "stdout",
     "output_type": "stream",
     "text": [
      "Request succeeded for https://fred.stlouisfed.org/series/TXDIMM7POP\n"
     ]
    },
    {
     "data": {
      "text/plain": [
       "' county  Dimmit County series id TXDIMM7POP'"
      ]
     },
     "metadata": {},
     "output_type": "display_data"
    },
    {
     "name": "stdout",
     "output_type": "stream",
     "text": [
      "Request succeeded for https://fred.stlouisfed.org/series/TXDONL9POP\n"
     ]
    },
    {
     "data": {
      "text/plain": [
       "' county  Donley County series id TXDONL9POP'"
      ]
     },
     "metadata": {},
     "output_type": "display_data"
    },
    {
     "name": "stdout",
     "output_type": "stream",
     "text": [
      "Request succeeded for https://fred.stlouisfed.org/series/TXDUVA1POP\n"
     ]
    },
    {
     "data": {
      "text/plain": [
       "' county  Duval County series id TXDUVA1POP'"
      ]
     },
     "metadata": {},
     "output_type": "display_data"
    },
    {
     "name": "stdout",
     "output_type": "stream",
     "text": [
      "Request succeeded for https://fred.stlouisfed.org/series/TXEAST3POP\n"
     ]
    },
    {
     "data": {
      "text/plain": [
       "' county  Eastland County series id TXEAST3POP'"
      ]
     },
     "metadata": {},
     "output_type": "display_data"
    },
    {
     "name": "stdout",
     "output_type": "stream",
     "text": [
      "Request succeeded for https://fred.stlouisfed.org/series/TXECTO5POP\n"
     ]
    },
    {
     "data": {
      "text/plain": [
       "' county  Ector County series id TXECTO5POP'"
      ]
     },
     "metadata": {},
     "output_type": "display_data"
    },
    {
     "name": "stdout",
     "output_type": "stream",
     "text": [
      "Request succeeded for https://fred.stlouisfed.org/series/TXEDWA7POP\n"
     ]
    },
    {
     "data": {
      "text/plain": [
       "' county  Edwards County series id TXEDWA7POP'"
      ]
     },
     "metadata": {},
     "output_type": "display_data"
    },
    {
     "name": "stdout",
     "output_type": "stream",
     "text": [
      "Request succeeded for https://fred.stlouisfed.org/series/TXELLI0POP\n"
     ]
    },
    {
     "data": {
      "text/plain": [
       "' county  Ellis County series id TXELLI0POP'"
      ]
     },
     "metadata": {},
     "output_type": "display_data"
    },
    {
     "name": "stdout",
     "output_type": "stream",
     "text": [
      "Request succeeded for https://fred.stlouisfed.org/series/TXELPA0POP\n"
     ]
    },
    {
     "data": {
      "text/plain": [
       "' county  El Paso County series id TXELPA0POP'"
      ]
     },
     "metadata": {},
     "output_type": "display_data"
    },
    {
     "name": "stdout",
     "output_type": "stream",
     "text": [
      "Request succeeded for https://fred.stlouisfed.org/series/TXERAT3POP\n"
     ]
    },
    {
     "data": {
      "text/plain": [
       "' county  Erath County series id TXERAT3POP'"
      ]
     },
     "metadata": {},
     "output_type": "display_data"
    },
    {
     "name": "stdout",
     "output_type": "stream",
     "text": [
      "Request succeeded for https://fred.stlouisfed.org/series/TXFALL5POP\n"
     ]
    },
    {
     "data": {
      "text/plain": [
       "' county  Falls County series id TXFALL5POP'"
      ]
     },
     "metadata": {},
     "output_type": "display_data"
    },
    {
     "name": "stdout",
     "output_type": "stream",
     "text": [
      "Request succeeded for https://fred.stlouisfed.org/series/TXFANN7POP\n"
     ]
    },
    {
     "data": {
      "text/plain": [
       "' county  Fannin County series id TXFANN7POP'"
      ]
     },
     "metadata": {},
     "output_type": "display_data"
    },
    {
     "name": "stdout",
     "output_type": "stream",
     "text": [
      "Request succeeded for https://fred.stlouisfed.org/series/TXFAYE9POP\n"
     ]
    },
    {
     "data": {
      "text/plain": [
       "' county  Fayette County series id TXFAYE9POP'"
      ]
     },
     "metadata": {},
     "output_type": "display_data"
    },
    {
     "name": "stdout",
     "output_type": "stream",
     "text": [
      "Request succeeded for https://fred.stlouisfed.org/series/TXFISH1POP\n"
     ]
    },
    {
     "data": {
      "text/plain": [
       "' county  Fisher County series id TXFISH1POP'"
      ]
     },
     "metadata": {},
     "output_type": "display_data"
    },
    {
     "name": "stdout",
     "output_type": "stream",
     "text": [
      "Request succeeded for https://fred.stlouisfed.org/series/TXFLOY3POP\n"
     ]
    },
    {
     "data": {
      "text/plain": [
       "' county  Floyd County series id TXFLOY3POP'"
      ]
     },
     "metadata": {},
     "output_type": "display_data"
    },
    {
     "name": "stdout",
     "output_type": "stream",
     "text": [
      "Request succeeded for https://fred.stlouisfed.org/series/TXFOAR5POP\n"
     ]
    },
    {
     "data": {
      "text/plain": [
       "' county  Foard County series id TXFOAR5POP'"
      ]
     },
     "metadata": {},
     "output_type": "display_data"
    },
    {
     "name": "stdout",
     "output_type": "stream",
     "text": [
      "Request succeeded for https://fred.stlouisfed.org/series/TXFORT5POP\n"
     ]
    },
    {
     "data": {
      "text/plain": [
       "' county  Fort Bend County series id TXFORT5POP'"
      ]
     },
     "metadata": {},
     "output_type": "display_data"
    },
    {
     "name": "stdout",
     "output_type": "stream",
     "text": [
      "Request succeeded for https://fred.stlouisfed.org/series/TXFRAN9POP\n"
     ]
    },
    {
     "data": {
      "text/plain": [
       "' county  Franklin County series id TXFRAN9POP'"
      ]
     },
     "metadata": {},
     "output_type": "display_data"
    },
    {
     "name": "stdout",
     "output_type": "stream",
     "text": [
      "Request succeeded for https://fred.stlouisfed.org/series/TXFREE1POP\n"
     ]
    },
    {
     "data": {
      "text/plain": [
       "' county  Freestone County series id TXFREE1POP'"
      ]
     },
     "metadata": {},
     "output_type": "display_data"
    },
    {
     "name": "stdout",
     "output_type": "stream",
     "text": [
      "Request succeeded for https://fred.stlouisfed.org/series/TXFRIO3POP\n"
     ]
    },
    {
     "data": {
      "text/plain": [
       "' county  Frio County series id TXFRIO3POP'"
      ]
     },
     "metadata": {},
     "output_type": "display_data"
    },
    {
     "name": "stdout",
     "output_type": "stream",
     "text": [
      "Request succeeded for https://fred.stlouisfed.org/series/TXGAIN5POP\n"
     ]
    },
    {
     "data": {
      "text/plain": [
       "' county  Gaines County series id TXGAIN5POP'"
      ]
     },
     "metadata": {},
     "output_type": "display_data"
    },
    {
     "name": "stdout",
     "output_type": "stream",
     "text": [
      "Request succeeded for https://fred.stlouisfed.org/series/TXGALV7POP\n"
     ]
    },
    {
     "data": {
      "text/plain": [
       "' county  Galveston County series id TXGALV7POP'"
      ]
     },
     "metadata": {},
     "output_type": "display_data"
    },
    {
     "name": "stdout",
     "output_type": "stream",
     "text": [
      "Request succeeded for https://fred.stlouisfed.org/series/TXGARZ9POP\n"
     ]
    },
    {
     "data": {
      "text/plain": [
       "' county  Garza County series id TXGARZ9POP'"
      ]
     },
     "metadata": {},
     "output_type": "display_data"
    },
    {
     "name": "stdout",
     "output_type": "stream",
     "text": [
      "Request succeeded for https://fred.stlouisfed.org/series/TXGILL1POP\n"
     ]
    },
    {
     "data": {
      "text/plain": [
       "' county  Gillespie County series id TXGILL1POP'"
      ]
     },
     "metadata": {},
     "output_type": "display_data"
    },
    {
     "name": "stdout",
     "output_type": "stream",
     "text": [
      "Request succeeded for https://fred.stlouisfed.org/series/TXGLAS3POP\n"
     ]
    },
    {
     "data": {
      "text/plain": [
       "' county  Glasscock County series id TXGLAS3POP'"
      ]
     },
     "metadata": {},
     "output_type": "display_data"
    },
    {
     "name": "stdout",
     "output_type": "stream",
     "text": [
      "Request succeeded for https://fred.stlouisfed.org/series/TXGOLI5POP\n"
     ]
    },
    {
     "data": {
      "text/plain": [
       "' county  Goliad County series id TXGOLI5POP'"
      ]
     },
     "metadata": {},
     "output_type": "display_data"
    },
    {
     "name": "stdout",
     "output_type": "stream",
     "text": [
      "Request succeeded for https://fred.stlouisfed.org/series/TXGONZ7POP\n"
     ]
    },
    {
     "data": {
      "text/plain": [
       "' county  Gonzales County series id TXGONZ7POP'"
      ]
     },
     "metadata": {},
     "output_type": "display_data"
    },
    {
     "name": "stdout",
     "output_type": "stream",
     "text": [
      "Request succeeded for https://fred.stlouisfed.org/series/TXGRAY9POP\n"
     ]
    },
    {
     "data": {
      "text/plain": [
       "' county  Gray County series id TXGRAY9POP'"
      ]
     },
     "metadata": {},
     "output_type": "display_data"
    },
    {
     "data": {
      "text/plain": [
       "'this is the dup abbr code TXGRAY9POP'"
      ]
     },
     "metadata": {},
     "output_type": "display_data"
    },
    {
     "name": "stdout",
     "output_type": "stream",
     "text": [
      "Request succeeded for https://fred.stlouisfed.org/series/TXGRAY0POP\n"
     ]
    },
    {
     "data": {
      "text/plain": [
       "' county  Grayson County series id TXGRAY0POP'"
      ]
     },
     "metadata": {},
     "output_type": "display_data"
    },
    {
     "name": "stdout",
     "output_type": "stream",
     "text": [
      "Request succeeded for https://fred.stlouisfed.org/series/TXGREG3POP\n"
     ]
    },
    {
     "data": {
      "text/plain": [
       "' county  Gregg County series id TXGREG3POP'"
      ]
     },
     "metadata": {},
     "output_type": "display_data"
    },
    {
     "name": "stdout",
     "output_type": "stream",
     "text": [
      "Request succeeded for https://fred.stlouisfed.org/series/TXGRIM5POP\n"
     ]
    },
    {
     "data": {
      "text/plain": [
       "' county  Grimes County series id TXGRIM5POP'"
      ]
     },
     "metadata": {},
     "output_type": "display_data"
    },
    {
     "name": "stdout",
     "output_type": "stream",
     "text": [
      "Request succeeded for https://fred.stlouisfed.org/series/TXGUAD7POP\n"
     ]
    },
    {
     "data": {
      "text/plain": [
       "' county  Guadalupe County series id TXGUAD7POP'"
      ]
     },
     "metadata": {},
     "output_type": "display_data"
    },
    {
     "name": "stdout",
     "output_type": "stream",
     "text": [
      "Request succeeded for https://fred.stlouisfed.org/series/TXHALE9POP\n"
     ]
    },
    {
     "data": {
      "text/plain": [
       "' county  Hale County series id TXHALE9POP'"
      ]
     },
     "metadata": {},
     "output_type": "display_data"
    },
    {
     "name": "stdout",
     "output_type": "stream",
     "text": [
      "Request succeeded for https://fred.stlouisfed.org/series/TXHALL1POP\n"
     ]
    },
    {
     "data": {
      "text/plain": [
       "' county  Hall County series id TXHALL1POP'"
      ]
     },
     "metadata": {},
     "output_type": "display_data"
    },
    {
     "name": "stdout",
     "output_type": "stream",
     "text": [
      "Request succeeded for https://fred.stlouisfed.org/series/TXHAMI3POP\n"
     ]
    },
    {
     "data": {
      "text/plain": [
       "' county  Hamilton County series id TXHAMI3POP'"
      ]
     },
     "metadata": {},
     "output_type": "display_data"
    },
    {
     "name": "stdout",
     "output_type": "stream",
     "text": [
      "Request succeeded for https://fred.stlouisfed.org/series/TXHANS5POP\n"
     ]
    },
    {
     "data": {
      "text/plain": [
       "' county  Hansford County series id TXHANS5POP'"
      ]
     },
     "metadata": {},
     "output_type": "display_data"
    },
    {
     "name": "stdout",
     "output_type": "stream",
     "text": [
      "Request succeeded for https://fred.stlouisfed.org/series/TXHARD7POP\n"
     ]
    },
    {
     "data": {
      "text/plain": [
       "' county  Hardeman County series id TXHARD7POP'"
      ]
     },
     "metadata": {},
     "output_type": "display_data"
    },
    {
     "data": {
      "text/plain": [
       "'this is the dup abbr code TXHARD7POP'"
      ]
     },
     "metadata": {},
     "output_type": "display_data"
    },
    {
     "name": "stdout",
     "output_type": "stream",
     "text": [
      "Request succeeded for https://fred.stlouisfed.org/series/TXHARD9POP\n"
     ]
    },
    {
     "data": {
      "text/plain": [
       "' county  Hardin County series id TXHARD9POP'"
      ]
     },
     "metadata": {},
     "output_type": "display_data"
    },
    {
     "name": "stdout",
     "output_type": "stream",
     "text": [
      "Request succeeded for https://fred.stlouisfed.org/series/TXHARR1POP\n"
     ]
    },
    {
     "data": {
      "text/plain": [
       "' county  Harris County series id TXHARR1POP'"
      ]
     },
     "metadata": {},
     "output_type": "display_data"
    },
    {
     "data": {
      "text/plain": [
       "'this is the dup abbr code TXHARR1POP'"
      ]
     },
     "metadata": {},
     "output_type": "display_data"
    },
    {
     "name": "stdout",
     "output_type": "stream",
     "text": [
      "Request succeeded for https://fred.stlouisfed.org/series/TXHARR0POP\n"
     ]
    },
    {
     "data": {
      "text/plain": [
       "' county  Harrison County series id TXHARR0POP'"
      ]
     },
     "metadata": {},
     "output_type": "display_data"
    },
    {
     "name": "stdout",
     "output_type": "stream",
     "text": [
      "Request succeeded for https://fred.stlouisfed.org/series/TXHART5POP\n"
     ]
    },
    {
     "data": {
      "text/plain": [
       "' county  Hartley County series id TXHART5POP'"
      ]
     },
     "metadata": {},
     "output_type": "display_data"
    },
    {
     "name": "stdout",
     "output_type": "stream",
     "text": [
      "Request succeeded for https://fred.stlouisfed.org/series/TXHASK7POP\n"
     ]
    },
    {
     "data": {
      "text/plain": [
       "' county  Haskell County series id TXHASK7POP'"
      ]
     },
     "metadata": {},
     "output_type": "display_data"
    },
    {
     "name": "stdout",
     "output_type": "stream",
     "text": [
      "Request succeeded for https://fred.stlouisfed.org/series/TXHAYS9POP\n"
     ]
    },
    {
     "data": {
      "text/plain": [
       "' county  Hays County series id TXHAYS9POP'"
      ]
     },
     "metadata": {},
     "output_type": "display_data"
    },
    {
     "name": "stdout",
     "output_type": "stream",
     "text": [
      "Request succeeded for https://fred.stlouisfed.org/series/TXHEMP1POP\n"
     ]
    },
    {
     "data": {
      "text/plain": [
       "' county  Hemphill County series id TXHEMP1POP'"
      ]
     },
     "metadata": {},
     "output_type": "display_data"
    },
    {
     "name": "stdout",
     "output_type": "stream",
     "text": [
      "Request succeeded for https://fred.stlouisfed.org/series/TXHEND3POP\n"
     ]
    },
    {
     "data": {
      "text/plain": [
       "' county  Henderson County series id TXHEND3POP'"
      ]
     },
     "metadata": {},
     "output_type": "display_data"
    },
    {
     "name": "stdout",
     "output_type": "stream",
     "text": [
      "Request succeeded for https://fred.stlouisfed.org/series/TXHIDA5POP\n"
     ]
    },
    {
     "data": {
      "text/plain": [
       "' county  Hidalgo County series id TXHIDA5POP'"
      ]
     },
     "metadata": {},
     "output_type": "display_data"
    },
    {
     "name": "stdout",
     "output_type": "stream",
     "text": [
      "Request succeeded for https://fred.stlouisfed.org/series/TXHILL7POP\n"
     ]
    },
    {
     "data": {
      "text/plain": [
       "' county  Hill County series id TXHILL7POP'"
      ]
     },
     "metadata": {},
     "output_type": "display_data"
    },
    {
     "name": "stdout",
     "output_type": "stream",
     "text": [
      "Request succeeded for https://fred.stlouisfed.org/series/TXHOCK9POP\n"
     ]
    },
    {
     "data": {
      "text/plain": [
       "' county  Hockley County series id TXHOCK9POP'"
      ]
     },
     "metadata": {},
     "output_type": "display_data"
    },
    {
     "name": "stdout",
     "output_type": "stream",
     "text": [
      "Request succeeded for https://fred.stlouisfed.org/series/TXHOOD1POP\n"
     ]
    },
    {
     "data": {
      "text/plain": [
       "' county  Hood County series id TXHOOD1POP'"
      ]
     },
     "metadata": {},
     "output_type": "display_data"
    },
    {
     "name": "stdout",
     "output_type": "stream",
     "text": [
      "Request succeeded for https://fred.stlouisfed.org/series/TXHOPK3POP\n"
     ]
    },
    {
     "data": {
      "text/plain": [
       "' county  Hopkins County series id TXHOPK3POP'"
      ]
     },
     "metadata": {},
     "output_type": "display_data"
    },
    {
     "name": "stdout",
     "output_type": "stream",
     "text": [
      "Request succeeded for https://fred.stlouisfed.org/series/TXHOUS5POP\n"
     ]
    },
    {
     "data": {
      "text/plain": [
       "' county  Houston County series id TXHOUS5POP'"
      ]
     },
     "metadata": {},
     "output_type": "display_data"
    },
    {
     "name": "stdout",
     "output_type": "stream",
     "text": [
      "Request succeeded for https://fred.stlouisfed.org/series/TXHOWA7POP\n"
     ]
    },
    {
     "data": {
      "text/plain": [
       "' county  Howard County series id TXHOWA7POP'"
      ]
     },
     "metadata": {},
     "output_type": "display_data"
    },
    {
     "name": "stdout",
     "output_type": "stream",
     "text": [
      "Request succeeded for https://fred.stlouisfed.org/series/TXHUDS9POP\n"
     ]
    },
    {
     "data": {
      "text/plain": [
       "' county  Hudspeth County series id TXHUDS9POP'"
      ]
     },
     "metadata": {},
     "output_type": "display_data"
    },
    {
     "name": "stdout",
     "output_type": "stream",
     "text": [
      "Request succeeded for https://fred.stlouisfed.org/series/TXHUNT0POP\n"
     ]
    },
    {
     "data": {
      "text/plain": [
       "' county  Hunt County series id TXHUNT0POP'"
      ]
     },
     "metadata": {},
     "output_type": "display_data"
    },
    {
     "name": "stdout",
     "output_type": "stream",
     "text": [
      "Request succeeded for https://fred.stlouisfed.org/series/TXHUTC3POP\n"
     ]
    },
    {
     "data": {
      "text/plain": [
       "' county  Hutchinson County series id TXHUTC3POP'"
      ]
     },
     "metadata": {},
     "output_type": "display_data"
    },
    {
     "name": "stdout",
     "output_type": "stream",
     "text": [
      "Request succeeded for https://fred.stlouisfed.org/series/TXIRIO5POP\n"
     ]
    },
    {
     "data": {
      "text/plain": [
       "' county  Irion County series id TXIRIO5POP'"
      ]
     },
     "metadata": {},
     "output_type": "display_data"
    },
    {
     "name": "stdout",
     "output_type": "stream",
     "text": [
      "Request succeeded for https://fred.stlouisfed.org/series/TXJACK7POP\n"
     ]
    },
    {
     "data": {
      "text/plain": [
       "' county  Jack County series id TXJACK7POP'"
      ]
     },
     "metadata": {},
     "output_type": "display_data"
    },
    {
     "data": {
      "text/plain": [
       "'this is the dup abbr code TXJACK7POP'"
      ]
     },
     "metadata": {},
     "output_type": "display_data"
    },
    {
     "name": "stdout",
     "output_type": "stream",
     "text": [
      "Request succeeded for https://fred.stlouisfed.org/series/TXJACK9POP\n"
     ]
    },
    {
     "data": {
      "text/plain": [
       "' county  Jackson County series id TXJACK9POP'"
      ]
     },
     "metadata": {},
     "output_type": "display_data"
    },
    {
     "name": "stdout",
     "output_type": "stream",
     "text": [
      "Request succeeded for https://fred.stlouisfed.org/series/TXJASP1POP\n"
     ]
    },
    {
     "data": {
      "text/plain": [
       "' county  Jasper County series id TXJASP1POP'"
      ]
     },
     "metadata": {},
     "output_type": "display_data"
    },
    {
     "name": "stdout",
     "output_type": "stream",
     "text": [
      "Request succeeded for https://fred.stlouisfed.org/series/TXJEFF3POP\n"
     ]
    },
    {
     "data": {
      "text/plain": [
       "' county  Jeff Davis County series id TXJEFF3POP'"
      ]
     },
     "metadata": {},
     "output_type": "display_data"
    },
    {
     "data": {
      "text/plain": [
       "'this is the dup abbr code TXJEFF3POP'"
      ]
     },
     "metadata": {},
     "output_type": "display_data"
    },
    {
     "name": "stdout",
     "output_type": "stream",
     "text": [
      "Request succeeded for https://fred.stlouisfed.org/series/TXJEFF5POP\n"
     ]
    },
    {
     "data": {
      "text/plain": [
       "' county  Jefferson County series id TXJEFF5POP'"
      ]
     },
     "metadata": {},
     "output_type": "display_data"
    },
    {
     "name": "stdout",
     "output_type": "stream",
     "text": [
      "Request succeeded for https://fred.stlouisfed.org/series/TXJIMH7POP\n"
     ]
    },
    {
     "data": {
      "text/plain": [
       "' county  Jim Hogg County series id TXJIMH7POP'"
      ]
     },
     "metadata": {},
     "output_type": "display_data"
    },
    {
     "name": "stdout",
     "output_type": "stream",
     "text": [
      "Request succeeded for https://fred.stlouisfed.org/series/TXJIMW9POP\n"
     ]
    },
    {
     "data": {
      "text/plain": [
       "' county  Jim Wells County series id TXJIMW9POP'"
      ]
     },
     "metadata": {},
     "output_type": "display_data"
    },
    {
     "name": "stdout",
     "output_type": "stream",
     "text": [
      "Request succeeded for https://fred.stlouisfed.org/series/TXJOHN4POP\n"
     ]
    },
    {
     "data": {
      "text/plain": [
       "' county  Johnson County series id TXJOHN4POP'"
      ]
     },
     "metadata": {},
     "output_type": "display_data"
    },
    {
     "name": "stdout",
     "output_type": "stream",
     "text": [
      "Request succeeded for https://fred.stlouisfed.org/series/TXJONE3POP\n"
     ]
    },
    {
     "data": {
      "text/plain": [
       "' county  Jones County series id TXJONE3POP'"
      ]
     },
     "metadata": {},
     "output_type": "display_data"
    },
    {
     "name": "stdout",
     "output_type": "stream",
     "text": [
      "Request succeeded for https://fred.stlouisfed.org/series/TXKARN5POP\n"
     ]
    },
    {
     "data": {
      "text/plain": [
       "' county  Karnes County series id TXKARN5POP'"
      ]
     },
     "metadata": {},
     "output_type": "display_data"
    },
    {
     "name": "stdout",
     "output_type": "stream",
     "text": [
      "Request succeeded for https://fred.stlouisfed.org/series/TXKAUF7POP\n"
     ]
    },
    {
     "data": {
      "text/plain": [
       "' county  Kaufman County series id TXKAUF7POP'"
      ]
     },
     "metadata": {},
     "output_type": "display_data"
    },
    {
     "name": "stdout",
     "output_type": "stream",
     "text": [
      "Request succeeded for https://fred.stlouisfed.org/series/TXKEND9POP\n"
     ]
    },
    {
     "data": {
      "text/plain": [
       "' county  Kendall County series id TXKEND9POP'"
      ]
     },
     "metadata": {},
     "output_type": "display_data"
    },
    {
     "name": "stdout",
     "output_type": "stream",
     "text": [
      "Request succeeded for https://fred.stlouisfed.org/series/TXKENE1POP\n"
     ]
    },
    {
     "data": {
      "text/plain": [
       "' county  Kenedy County series id TXKENE1POP'"
      ]
     },
     "metadata": {},
     "output_type": "display_data"
    },
    {
     "name": "stdout",
     "output_type": "stream",
     "text": [
      "Request succeeded for https://fred.stlouisfed.org/series/TXKENT3POP\n"
     ]
    },
    {
     "data": {
      "text/plain": [
       "' county  Kent County series id TXKENT3POP'"
      ]
     },
     "metadata": {},
     "output_type": "display_data"
    },
    {
     "name": "stdout",
     "output_type": "stream",
     "text": [
      "Request succeeded for https://fred.stlouisfed.org/series/TXKERR5POP\n"
     ]
    },
    {
     "data": {
      "text/plain": [
       "' county  Kerr County series id TXKERR5POP'"
      ]
     },
     "metadata": {},
     "output_type": "display_data"
    },
    {
     "name": "stdout",
     "output_type": "stream",
     "text": [
      "Attempt 1 of 3 failed with timeout. Retrying...\n",
      "Request succeeded for https://fred.stlouisfed.org/series/TXKIMB7POP\n"
     ]
    },
    {
     "data": {
      "text/plain": [
       "' county  Kimble County series id TXKIMB7POP'"
      ]
     },
     "metadata": {},
     "output_type": "display_data"
    },
    {
     "name": "stdout",
     "output_type": "stream",
     "text": [
      "Request succeeded for https://fred.stlouisfed.org/series/TXKING9POP\n"
     ]
    },
    {
     "data": {
      "text/plain": [
       "' county  King County series id TXKING9POP'"
      ]
     },
     "metadata": {},
     "output_type": "display_data"
    },
    {
     "name": "stdout",
     "output_type": "stream",
     "text": [
      "Request succeeded for https://fred.stlouisfed.org/series/TXKINN1POP\n"
     ]
    },
    {
     "data": {
      "text/plain": [
       "' county  Kinney County series id TXKINN1POP'"
      ]
     },
     "metadata": {},
     "output_type": "display_data"
    },
    {
     "name": "stdout",
     "output_type": "stream",
     "text": [
      "Request succeeded for https://fred.stlouisfed.org/series/TXKLEB3POP\n"
     ]
    },
    {
     "data": {
      "text/plain": [
       "' county  Kleberg County series id TXKLEB3POP'"
      ]
     },
     "metadata": {},
     "output_type": "display_data"
    },
    {
     "name": "stdout",
     "output_type": "stream",
     "text": [
      "Request succeeded for https://fred.stlouisfed.org/series/TXKNOX5POP\n"
     ]
    },
    {
     "data": {
      "text/plain": [
       "' county  Knox County series id TXKNOX5POP'"
      ]
     },
     "metadata": {},
     "output_type": "display_data"
    },
    {
     "name": "stdout",
     "output_type": "stream",
     "text": [
      "Request succeeded for https://fred.stlouisfed.org/series/TXLAMA7POP\n"
     ]
    },
    {
     "data": {
      "text/plain": [
       "' county  Lamar County series id TXLAMA7POP'"
      ]
     },
     "metadata": {},
     "output_type": "display_data"
    },
    {
     "name": "stdout",
     "output_type": "stream",
     "text": [
      "Request succeeded for https://fred.stlouisfed.org/series/TXLAMB9POP\n"
     ]
    },
    {
     "data": {
      "text/plain": [
       "' county  Lamb County series id TXLAMB9POP'"
      ]
     },
     "metadata": {},
     "output_type": "display_data"
    },
    {
     "name": "stdout",
     "output_type": "stream",
     "text": [
      "Request succeeded for https://fred.stlouisfed.org/series/TXLAMP1POP\n"
     ]
    },
    {
     "data": {
      "text/plain": [
       "' county  Lampasas County series id TXLAMP1POP'"
      ]
     },
     "metadata": {},
     "output_type": "display_data"
    },
    {
     "name": "stdout",
     "output_type": "stream",
     "text": [
      "Request succeeded for https://fred.stlouisfed.org/series/TXLASA3POP\n"
     ]
    },
    {
     "data": {
      "text/plain": [
       "' county  La Salle County series id TXLASA3POP'"
      ]
     },
     "metadata": {},
     "output_type": "display_data"
    },
    {
     "name": "stdout",
     "output_type": "stream",
     "text": [
      "Request succeeded for https://fred.stlouisfed.org/series/TXLAVA5POP\n"
     ]
    },
    {
     "data": {
      "text/plain": [
       "' county  Lavaca County series id TXLAVA5POP'"
      ]
     },
     "metadata": {},
     "output_type": "display_data"
    },
    {
     "name": "stdout",
     "output_type": "stream",
     "text": [
      "Request succeeded for https://fred.stlouisfed.org/series/TXLEEC7POP\n"
     ]
    },
    {
     "data": {
      "text/plain": [
       "' county  Lee County series id TXLEEC7POP'"
      ]
     },
     "metadata": {},
     "output_type": "display_data"
    },
    {
     "name": "stdout",
     "output_type": "stream",
     "text": [
      "Request succeeded for https://fred.stlouisfed.org/series/TXLEON9POP\n"
     ]
    },
    {
     "data": {
      "text/plain": [
       "' county  Leon County series id TXLEON9POP'"
      ]
     },
     "metadata": {},
     "output_type": "display_data"
    },
    {
     "name": "stdout",
     "output_type": "stream",
     "text": [
      "Request succeeded for https://fred.stlouisfed.org/series/TXLIBE1POP\n"
     ]
    },
    {
     "data": {
      "text/plain": [
       "' county  Liberty County series id TXLIBE1POP'"
      ]
     },
     "metadata": {},
     "output_type": "display_data"
    },
    {
     "name": "stdout",
     "output_type": "stream",
     "text": [
      "Request succeeded for https://fred.stlouisfed.org/series/TXLIME3POP\n"
     ]
    },
    {
     "data": {
      "text/plain": [
       "' county  Limestone County series id TXLIME3POP'"
      ]
     },
     "metadata": {},
     "output_type": "display_data"
    },
    {
     "name": "stdout",
     "output_type": "stream",
     "text": [
      "Request succeeded for https://fred.stlouisfed.org/series/TXLIPS5POP\n"
     ]
    },
    {
     "data": {
      "text/plain": [
       "' county  Lipscomb County series id TXLIPS5POP'"
      ]
     },
     "metadata": {},
     "output_type": "display_data"
    },
    {
     "name": "stdout",
     "output_type": "stream",
     "text": [
      "Request succeeded for https://fred.stlouisfed.org/series/TXLIVE7POP\n"
     ]
    },
    {
     "data": {
      "text/plain": [
       "' county  Live Oak County series id TXLIVE7POP'"
      ]
     },
     "metadata": {},
     "output_type": "display_data"
    },
    {
     "name": "stdout",
     "output_type": "stream",
     "text": [
      "Request succeeded for https://fred.stlouisfed.org/series/TXLLAN9POP\n"
     ]
    },
    {
     "data": {
      "text/plain": [
       "' county  Llano County series id TXLLAN9POP'"
      ]
     },
     "metadata": {},
     "output_type": "display_data"
    },
    {
     "name": "stdout",
     "output_type": "stream",
     "text": [
      "Request succeeded for https://fred.stlouisfed.org/series/TXLOVI1POP\n"
     ]
    },
    {
     "data": {
      "text/plain": [
       "' county  Loving County series id TXLOVI1POP'"
      ]
     },
     "metadata": {},
     "output_type": "display_data"
    },
    {
     "name": "stdout",
     "output_type": "stream",
     "text": [
      "Request succeeded for https://fred.stlouisfed.org/series/TXLUBB3POP\n"
     ]
    },
    {
     "data": {
      "text/plain": [
       "' county  Lubbock County series id TXLUBB3POP'"
      ]
     },
     "metadata": {},
     "output_type": "display_data"
    },
    {
     "name": "stdout",
     "output_type": "stream",
     "text": [
      "Request succeeded for https://fred.stlouisfed.org/series/TXLYNN5POP\n"
     ]
    },
    {
     "data": {
      "text/plain": [
       "' county  Lynn County series id TXLYNN5POP'"
      ]
     },
     "metadata": {},
     "output_type": "display_data"
    },
    {
     "name": "stdout",
     "output_type": "stream",
     "text": [
      "Request succeeded for https://fred.stlouisfed.org/series/TXMADI3POP\n"
     ]
    },
    {
     "data": {
      "text/plain": [
       "' county  Madison County series id TXMADI3POP'"
      ]
     },
     "metadata": {},
     "output_type": "display_data"
    },
    {
     "name": "stdout",
     "output_type": "stream",
     "text": [
      "Request succeeded for https://fred.stlouisfed.org/series/TXMARI5POP\n"
     ]
    },
    {
     "data": {
      "text/plain": [
       "' county  Marion County series id TXMARI5POP'"
      ]
     },
     "metadata": {},
     "output_type": "display_data"
    },
    {
     "name": "stdout",
     "output_type": "stream",
     "text": [
      "Request succeeded for https://fred.stlouisfed.org/series/TXMART7POP\n"
     ]
    },
    {
     "data": {
      "text/plain": [
       "' county  Martin County series id TXMART7POP'"
      ]
     },
     "metadata": {},
     "output_type": "display_data"
    },
    {
     "name": "stdout",
     "output_type": "stream",
     "text": [
      "Request succeeded for https://fred.stlouisfed.org/series/TXMASO9POP\n"
     ]
    },
    {
     "data": {
      "text/plain": [
       "' county  Mason County series id TXMASO9POP'"
      ]
     },
     "metadata": {},
     "output_type": "display_data"
    },
    {
     "name": "stdout",
     "output_type": "stream",
     "text": [
      "Request succeeded for https://fred.stlouisfed.org/series/TXMATA1POP\n"
     ]
    },
    {
     "data": {
      "text/plain": [
       "' county  Matagorda County series id TXMATA1POP'"
      ]
     },
     "metadata": {},
     "output_type": "display_data"
    },
    {
     "name": "stdout",
     "output_type": "stream",
     "text": [
      "Request succeeded for https://fred.stlouisfed.org/series/TXMAVE3POP\n"
     ]
    },
    {
     "data": {
      "text/plain": [
       "' county  Maverick County series id TXMAVE3POP'"
      ]
     },
     "metadata": {},
     "output_type": "display_data"
    },
    {
     "name": "stdout",
     "output_type": "stream",
     "text": [
      "Request succeeded for https://fred.stlouisfed.org/series/TXMCCU7POP\n"
     ]
    },
    {
     "data": {
      "text/plain": [
       "' county  McCulloch County series id TXMCCU7POP'"
      ]
     },
     "metadata": {},
     "output_type": "display_data"
    },
    {
     "name": "stdout",
     "output_type": "stream",
     "text": [
      "Request succeeded for https://fred.stlouisfed.org/series/TXMCLE9POP\n"
     ]
    },
    {
     "data": {
      "text/plain": [
       "' county  McLennan County series id TXMCLE9POP'"
      ]
     },
     "metadata": {},
     "output_type": "display_data"
    },
    {
     "name": "stdout",
     "output_type": "stream",
     "text": [
      "Request succeeded for https://fred.stlouisfed.org/series/TXMCMU1POP\n"
     ]
    },
    {
     "data": {
      "text/plain": [
       "' county  McMullen County series id TXMCMU1POP'"
      ]
     },
     "metadata": {},
     "output_type": "display_data"
    },
    {
     "name": "stdout",
     "output_type": "stream",
     "text": [
      "Request succeeded for https://fred.stlouisfed.org/series/TXMEDI5POP\n"
     ]
    },
    {
     "data": {
      "text/plain": [
       "' county  Medina County series id TXMEDI5POP'"
      ]
     },
     "metadata": {},
     "output_type": "display_data"
    },
    {
     "name": "stdout",
     "output_type": "stream",
     "text": [
      "Request succeeded for https://fred.stlouisfed.org/series/TXMENA7POP\n"
     ]
    },
    {
     "data": {
      "text/plain": [
       "' county  Menard County series id TXMENA7POP'"
      ]
     },
     "metadata": {},
     "output_type": "display_data"
    },
    {
     "name": "stdout",
     "output_type": "stream",
     "text": [
      "Request succeeded for https://fred.stlouisfed.org/series/TXMIDL9POP\n"
     ]
    },
    {
     "data": {
      "text/plain": [
       "' county  Midland County series id TXMIDL9POP'"
      ]
     },
     "metadata": {},
     "output_type": "display_data"
    },
    {
     "name": "stdout",
     "output_type": "stream",
     "text": [
      "Request succeeded for https://fred.stlouisfed.org/series/TXMILA1POP\n"
     ]
    },
    {
     "data": {
      "text/plain": [
       "' county  Milam County series id TXMILA1POP'"
      ]
     },
     "metadata": {},
     "output_type": "display_data"
    },
    {
     "name": "stdout",
     "output_type": "stream",
     "text": [
      "Request succeeded for https://fred.stlouisfed.org/series/TXMILL3POP\n"
     ]
    },
    {
     "data": {
      "text/plain": [
       "' county  Mills County series id TXMILL3POP'"
      ]
     },
     "metadata": {},
     "output_type": "display_data"
    },
    {
     "name": "stdout",
     "output_type": "stream",
     "text": [
      "Request succeeded for https://fred.stlouisfed.org/series/TXMITC5POP\n"
     ]
    },
    {
     "data": {
      "text/plain": [
       "' county  Mitchell County series id TXMITC5POP'"
      ]
     },
     "metadata": {},
     "output_type": "display_data"
    },
    {
     "name": "stdout",
     "output_type": "stream",
     "text": [
      "Request succeeded for https://fred.stlouisfed.org/series/TXMONT7POP\n"
     ]
    },
    {
     "data": {
      "text/plain": [
       "' county  Montague County series id TXMONT7POP'"
      ]
     },
     "metadata": {},
     "output_type": "display_data"
    },
    {
     "data": {
      "text/plain": [
       "'this is the dup abbr code TXMONT7POP'"
      ]
     },
     "metadata": {},
     "output_type": "display_data"
    },
    {
     "name": "stdout",
     "output_type": "stream",
     "text": [
      "Request succeeded for https://fred.stlouisfed.org/series/TXMONT0POP\n"
     ]
    },
    {
     "data": {
      "text/plain": [
       "' county  Montgomery County series id TXMONT0POP'"
      ]
     },
     "metadata": {},
     "output_type": "display_data"
    },
    {
     "name": "stdout",
     "output_type": "stream",
     "text": [
      "Request succeeded for https://fred.stlouisfed.org/series/TXMOOR1POP\n"
     ]
    },
    {
     "data": {
      "text/plain": [
       "' county  Moore County series id TXMOOR1POP'"
      ]
     },
     "metadata": {},
     "output_type": "display_data"
    },
    {
     "name": "stdout",
     "output_type": "stream",
     "text": [
      "Request succeeded for https://fred.stlouisfed.org/series/TXMORR3POP\n"
     ]
    },
    {
     "data": {
      "text/plain": [
       "' county  Morris County series id TXMORR3POP'"
      ]
     },
     "metadata": {},
     "output_type": "display_data"
    },
    {
     "name": "stdout",
     "output_type": "stream",
     "text": [
      "Request succeeded for https://fred.stlouisfed.org/series/TXMOTL5POP\n"
     ]
    },
    {
     "data": {
      "text/plain": [
       "' county  Motley County series id TXMOTL5POP'"
      ]
     },
     "metadata": {},
     "output_type": "display_data"
    },
    {
     "name": "stdout",
     "output_type": "stream",
     "text": [
      "Request succeeded for https://fred.stlouisfed.org/series/TXNACO7POP\n"
     ]
    },
    {
     "data": {
      "text/plain": [
       "' county  Nacogdoches County series id TXNACO7POP'"
      ]
     },
     "metadata": {},
     "output_type": "display_data"
    },
    {
     "name": "stdout",
     "output_type": "stream",
     "text": [
      "Request succeeded for https://fred.stlouisfed.org/series/TXNAVA9POP\n"
     ]
    },
    {
     "data": {
      "text/plain": [
       "' county  Navarro County series id TXNAVA9POP'"
      ]
     },
     "metadata": {},
     "output_type": "display_data"
    },
    {
     "name": "stdout",
     "output_type": "stream",
     "text": [
      "Request succeeded for https://fred.stlouisfed.org/series/TXNEWT1POP\n"
     ]
    },
    {
     "data": {
      "text/plain": [
       "' county  Newton County series id TXNEWT1POP'"
      ]
     },
     "metadata": {},
     "output_type": "display_data"
    },
    {
     "name": "stdout",
     "output_type": "stream",
     "text": [
      "Request succeeded for https://fred.stlouisfed.org/series/TXNOLA3POP\n"
     ]
    },
    {
     "data": {
      "text/plain": [
       "' county  Nolan County series id TXNOLA3POP'"
      ]
     },
     "metadata": {},
     "output_type": "display_data"
    },
    {
     "name": "stdout",
     "output_type": "stream",
     "text": [
      "Request succeeded for https://fred.stlouisfed.org/series/TXNUEC5POP\n"
     ]
    },
    {
     "data": {
      "text/plain": [
       "' county  Nueces County series id TXNUEC5POP'"
      ]
     },
     "metadata": {},
     "output_type": "display_data"
    },
    {
     "name": "stdout",
     "output_type": "stream",
     "text": [
      "Request succeeded for https://fred.stlouisfed.org/series/TXOCHI7POP\n"
     ]
    },
    {
     "data": {
      "text/plain": [
       "' county  Ochiltree County series id TXOCHI7POP'"
      ]
     },
     "metadata": {},
     "output_type": "display_data"
    },
    {
     "name": "stdout",
     "output_type": "stream",
     "text": [
      "Request succeeded for https://fred.stlouisfed.org/series/TXOLDH9POP\n"
     ]
    },
    {
     "data": {
      "text/plain": [
       "' county  Oldham County series id TXOLDH9POP'"
      ]
     },
     "metadata": {},
     "output_type": "display_data"
    },
    {
     "name": "stdout",
     "output_type": "stream",
     "text": [
      "Request succeeded for https://fred.stlouisfed.org/series/TXORAN5POP\n"
     ]
    },
    {
     "data": {
      "text/plain": [
       "' county  Orange County series id TXORAN5POP'"
      ]
     },
     "metadata": {},
     "output_type": "display_data"
    },
    {
     "name": "stdout",
     "output_type": "stream",
     "text": [
      "Request succeeded for https://fred.stlouisfed.org/series/TXPALO3POP\n"
     ]
    },
    {
     "data": {
      "text/plain": [
       "' county  Palo Pinto County series id TXPALO3POP'"
      ]
     },
     "metadata": {},
     "output_type": "display_data"
    },
    {
     "name": "stdout",
     "output_type": "stream",
     "text": [
      "Request succeeded for https://fred.stlouisfed.org/series/TXPANO5POP\n"
     ]
    },
    {
     "data": {
      "text/plain": [
       "' county  Panola County series id TXPANO5POP'"
      ]
     },
     "metadata": {},
     "output_type": "display_data"
    },
    {
     "name": "stdout",
     "output_type": "stream",
     "text": [
      "Request succeeded for https://fred.stlouisfed.org/series/TXPARK7POP\n"
     ]
    },
    {
     "data": {
      "text/plain": [
       "' county  Parker County series id TXPARK7POP'"
      ]
     },
     "metadata": {},
     "output_type": "display_data"
    },
    {
     "name": "stdout",
     "output_type": "stream",
     "text": [
      "Request succeeded for https://fred.stlouisfed.org/series/TXPARM9POP\n"
     ]
    },
    {
     "data": {
      "text/plain": [
       "' county  Parmer County series id TXPARM9POP'"
      ]
     },
     "metadata": {},
     "output_type": "display_data"
    },
    {
     "name": "stdout",
     "output_type": "stream",
     "text": [
      "Request succeeded for https://fred.stlouisfed.org/series/TXPECO1POP\n"
     ]
    },
    {
     "data": {
      "text/plain": [
       "' county  Pecos County series id TXPECO1POP'"
      ]
     },
     "metadata": {},
     "output_type": "display_data"
    },
    {
     "name": "stdout",
     "output_type": "stream",
     "text": [
      "Request succeeded for https://fred.stlouisfed.org/series/TXPOLK3POP\n"
     ]
    },
    {
     "data": {
      "text/plain": [
       "' county  Polk County series id TXPOLK3POP'"
      ]
     },
     "metadata": {},
     "output_type": "display_data"
    },
    {
     "name": "stdout",
     "output_type": "stream",
     "text": [
      "Request succeeded for https://fred.stlouisfed.org/series/TXPOTT5POP\n"
     ]
    },
    {
     "data": {
      "text/plain": [
       "' county  Potter County series id TXPOTT5POP'"
      ]
     },
     "metadata": {},
     "output_type": "display_data"
    },
    {
     "name": "stdout",
     "output_type": "stream",
     "text": [
      "Request succeeded for https://fred.stlouisfed.org/series/TXPRES7POP\n"
     ]
    },
    {
     "data": {
      "text/plain": [
       "' county  Presidio County series id TXPRES7POP'"
      ]
     },
     "metadata": {},
     "output_type": "display_data"
    },
    {
     "name": "stdout",
     "output_type": "stream",
     "text": [
      "Request succeeded for https://fred.stlouisfed.org/series/TXRAIN9POP\n"
     ]
    },
    {
     "data": {
      "text/plain": [
       "' county  Rains County series id TXRAIN9POP'"
      ]
     },
     "metadata": {},
     "output_type": "display_data"
    },
    {
     "name": "stdout",
     "output_type": "stream",
     "text": [
      "Request succeeded for https://fred.stlouisfed.org/series/TXRAND1POP\n"
     ]
    },
    {
     "data": {
      "text/plain": [
       "' county  Randall County series id TXRAND1POP'"
      ]
     },
     "metadata": {},
     "output_type": "display_data"
    },
    {
     "name": "stdout",
     "output_type": "stream",
     "text": [
      "Request succeeded for https://fred.stlouisfed.org/series/TXREAG3POP\n"
     ]
    },
    {
     "data": {
      "text/plain": [
       "' county  Reagan County series id TXREAG3POP'"
      ]
     },
     "metadata": {},
     "output_type": "display_data"
    },
    {
     "name": "stdout",
     "output_type": "stream",
     "text": [
      "Request succeeded for https://fred.stlouisfed.org/series/TXREAL5POP\n"
     ]
    },
    {
     "data": {
      "text/plain": [
       "' county  Real County series id TXREAL5POP'"
      ]
     },
     "metadata": {},
     "output_type": "display_data"
    },
    {
     "name": "stdout",
     "output_type": "stream",
     "text": [
      "Request succeeded for https://fred.stlouisfed.org/series/TXREDR7POP\n"
     ]
    },
    {
     "data": {
      "text/plain": [
       "' county  Red River County series id TXREDR7POP'"
      ]
     },
     "metadata": {},
     "output_type": "display_data"
    },
    {
     "name": "stdout",
     "output_type": "stream",
     "text": [
      "Request succeeded for https://fred.stlouisfed.org/series/TXREEV9POP\n"
     ]
    },
    {
     "data": {
      "text/plain": [
       "' county  Reeves County series id TXREEV9POP'"
      ]
     },
     "metadata": {},
     "output_type": "display_data"
    },
    {
     "name": "stdout",
     "output_type": "stream",
     "text": [
      "Request succeeded for https://fred.stlouisfed.org/series/TXREFU1POP\n"
     ]
    },
    {
     "data": {
      "text/plain": [
       "' county  Refugio County series id TXREFU1POP'"
      ]
     },
     "metadata": {},
     "output_type": "display_data"
    },
    {
     "name": "stdout",
     "output_type": "stream",
     "text": [
      "Request succeeded for https://fred.stlouisfed.org/series/TXROBE3POP\n"
     ]
    },
    {
     "data": {
      "text/plain": [
       "' county  Roberts County series id TXROBE3POP'"
      ]
     },
     "metadata": {},
     "output_type": "display_data"
    },
    {
     "data": {
      "text/plain": [
       "'this is the dup abbr code TXROBE3POP'"
      ]
     },
     "metadata": {},
     "output_type": "display_data"
    },
    {
     "name": "stdout",
     "output_type": "stream",
     "text": [
      "Request succeeded for https://fred.stlouisfed.org/series/TXROBE5POP\n"
     ]
    },
    {
     "data": {
      "text/plain": [
       "' county  Robertson County series id TXROBE5POP'"
      ]
     },
     "metadata": {},
     "output_type": "display_data"
    },
    {
     "name": "stdout",
     "output_type": "stream",
     "text": [
      "Request succeeded for https://fred.stlouisfed.org/series/TXROCK7POP\n"
     ]
    },
    {
     "data": {
      "text/plain": [
       "' county  Rockwall County series id TXROCK7POP'"
      ]
     },
     "metadata": {},
     "output_type": "display_data"
    },
    {
     "name": "stdout",
     "output_type": "stream",
     "text": [
      "Request succeeded for https://fred.stlouisfed.org/series/TXRUNN9POP\n"
     ]
    },
    {
     "data": {
      "text/plain": [
       "' county  Runnels County series id TXRUNN9POP'"
      ]
     },
     "metadata": {},
     "output_type": "display_data"
    },
    {
     "name": "stdout",
     "output_type": "stream",
     "text": [
      "Request succeeded for https://fred.stlouisfed.org/series/TXRUSK1POP\n"
     ]
    },
    {
     "data": {
      "text/plain": [
       "' county  Rusk County series id TXRUSK1POP'"
      ]
     },
     "metadata": {},
     "output_type": "display_data"
    },
    {
     "name": "stdout",
     "output_type": "stream",
     "text": [
      "Request succeeded for https://fred.stlouisfed.org/series/TXSABI3POP\n"
     ]
    },
    {
     "data": {
      "text/plain": [
       "' county  Sabine County series id TXSABI3POP'"
      ]
     },
     "metadata": {},
     "output_type": "display_data"
    },
    {
     "name": "stdout",
     "output_type": "stream",
     "text": [
      "Request succeeded for https://fred.stlouisfed.org/series/TXSANA5POP\n"
     ]
    },
    {
     "data": {
      "text/plain": [
       "' county  San Augustine County series id TXSANA5POP'"
      ]
     },
     "metadata": {},
     "output_type": "display_data"
    },
    {
     "name": "stdout",
     "output_type": "stream",
     "text": [
      "Request succeeded for https://fred.stlouisfed.org/series/TXSANJ7POP\n"
     ]
    },
    {
     "data": {
      "text/plain": [
       "' county  San Jacinto County series id TXSANJ7POP'"
      ]
     },
     "metadata": {},
     "output_type": "display_data"
    },
    {
     "name": "stdout",
     "output_type": "stream",
     "text": [
      "Request succeeded for https://fred.stlouisfed.org/series/TXSANP5POP\n"
     ]
    },
    {
     "data": {
      "text/plain": [
       "' county  San Patricio County series id TXSANP5POP'"
      ]
     },
     "metadata": {},
     "output_type": "display_data"
    },
    {
     "name": "stdout",
     "output_type": "stream",
     "text": [
      "Request succeeded for https://fred.stlouisfed.org/series/TXSANS1POP\n"
     ]
    },
    {
     "data": {
      "text/plain": [
       "' county  San Saba County series id TXSANS1POP'"
      ]
     },
     "metadata": {},
     "output_type": "display_data"
    },
    {
     "name": "stdout",
     "output_type": "stream",
     "text": [
      "Request succeeded for https://fred.stlouisfed.org/series/TXSCHL3POP\n"
     ]
    },
    {
     "data": {
      "text/plain": [
       "' county  Schleicher County series id TXSCHL3POP'"
      ]
     },
     "metadata": {},
     "output_type": "display_data"
    },
    {
     "name": "stdout",
     "output_type": "stream",
     "text": [
      "Request succeeded for https://fred.stlouisfed.org/series/TXSCUR5POP\n"
     ]
    },
    {
     "data": {
      "text/plain": [
       "' county  Scurry County series id TXSCUR5POP'"
      ]
     },
     "metadata": {},
     "output_type": "display_data"
    },
    {
     "name": "stdout",
     "output_type": "stream",
     "text": [
      "Request succeeded for https://fred.stlouisfed.org/series/TXSHAC7POP\n"
     ]
    },
    {
     "data": {
      "text/plain": [
       "' county  Shackelford County series id TXSHAC7POP'"
      ]
     },
     "metadata": {},
     "output_type": "display_data"
    },
    {
     "name": "stdout",
     "output_type": "stream",
     "text": [
      "Request succeeded for https://fred.stlouisfed.org/series/TXSHEL9POP\n"
     ]
    },
    {
     "data": {
      "text/plain": [
       "' county  Shelby County series id TXSHEL9POP'"
      ]
     },
     "metadata": {},
     "output_type": "display_data"
    },
    {
     "name": "stdout",
     "output_type": "stream",
     "text": [
      "Request succeeded for https://fred.stlouisfed.org/series/TXSHER1POP\n"
     ]
    },
    {
     "data": {
      "text/plain": [
       "' county  Sherman County series id TXSHER1POP'"
      ]
     },
     "metadata": {},
     "output_type": "display_data"
    },
    {
     "name": "stdout",
     "output_type": "stream",
     "text": [
      "Request succeeded for https://fred.stlouisfed.org/series/TXSMIT3POP\n"
     ]
    },
    {
     "data": {
      "text/plain": [
       "' county  Smith County series id TXSMIT3POP'"
      ]
     },
     "metadata": {},
     "output_type": "display_data"
    },
    {
     "name": "stdout",
     "output_type": "stream",
     "text": [
      "Request succeeded for https://fred.stlouisfed.org/series/TXSOME5POP\n"
     ]
    },
    {
     "data": {
      "text/plain": [
       "' county  Somervell County series id TXSOME5POP'"
      ]
     },
     "metadata": {},
     "output_type": "display_data"
    },
    {
     "name": "stdout",
     "output_type": "stream",
     "text": [
      "Request succeeded for https://fred.stlouisfed.org/series/TXSTAR7POP\n"
     ]
    },
    {
     "data": {
      "text/plain": [
       "' county  Starr County series id TXSTAR7POP'"
      ]
     },
     "metadata": {},
     "output_type": "display_data"
    },
    {
     "name": "stdout",
     "output_type": "stream",
     "text": [
      "Request succeeded for https://fred.stlouisfed.org/series/TXSTEP9POP\n"
     ]
    },
    {
     "data": {
      "text/plain": [
       "' county  Stephens County series id TXSTEP9POP'"
      ]
     },
     "metadata": {},
     "output_type": "display_data"
    },
    {
     "name": "stdout",
     "output_type": "stream",
     "text": [
      "Request succeeded for https://fred.stlouisfed.org/series/TXSTER1POP\n"
     ]
    },
    {
     "data": {
      "text/plain": [
       "' county  Sterling County series id TXSTER1POP'"
      ]
     },
     "metadata": {},
     "output_type": "display_data"
    },
    {
     "name": "stdout",
     "output_type": "stream",
     "text": [
      "Request succeeded for https://fred.stlouisfed.org/series/TXSTON3POP\n"
     ]
    },
    {
     "data": {
      "text/plain": [
       "' county  Stonewall County series id TXSTON3POP'"
      ]
     },
     "metadata": {},
     "output_type": "display_data"
    },
    {
     "name": "stdout",
     "output_type": "stream",
     "text": [
      "Request succeeded for https://fred.stlouisfed.org/series/TXSUTT5POP\n"
     ]
    },
    {
     "data": {
      "text/plain": [
       "' county  Sutton County series id TXSUTT5POP'"
      ]
     },
     "metadata": {},
     "output_type": "display_data"
    },
    {
     "name": "stdout",
     "output_type": "stream",
     "text": [
      "Request succeeded for https://fred.stlouisfed.org/series/TXSWIS7POP\n"
     ]
    },
    {
     "data": {
      "text/plain": [
       "' county  Swisher County series id TXSWIS7POP'"
      ]
     },
     "metadata": {},
     "output_type": "display_data"
    },
    {
     "name": "stdout",
     "output_type": "stream",
     "text": [
      "Request succeeded for https://fred.stlouisfed.org/series/TXTARR9POP\n"
     ]
    },
    {
     "data": {
      "text/plain": [
       "' county  Tarrant County series id TXTARR9POP'"
      ]
     },
     "metadata": {},
     "output_type": "display_data"
    },
    {
     "name": "stdout",
     "output_type": "stream",
     "text": [
      "Request succeeded for https://fred.stlouisfed.org/series/TXTAYL1POP\n"
     ]
    },
    {
     "data": {
      "text/plain": [
       "' county  Taylor County series id TXTAYL1POP'"
      ]
     },
     "metadata": {},
     "output_type": "display_data"
    },
    {
     "name": "stdout",
     "output_type": "stream",
     "text": [
      "Request succeeded for https://fred.stlouisfed.org/series/TXTERR3POP\n"
     ]
    },
    {
     "data": {
      "text/plain": [
       "' county  Terrell County series id TXTERR3POP'"
      ]
     },
     "metadata": {},
     "output_type": "display_data"
    },
    {
     "data": {
      "text/plain": [
       "'this is the dup abbr code TXTERR3POP'"
      ]
     },
     "metadata": {},
     "output_type": "display_data"
    },
    {
     "name": "stdout",
     "output_type": "stream",
     "text": [
      "Request succeeded for https://fred.stlouisfed.org/series/TXTERR5POP\n"
     ]
    },
    {
     "data": {
      "text/plain": [
       "' county  Terry County series id TXTERR5POP'"
      ]
     },
     "metadata": {},
     "output_type": "display_data"
    },
    {
     "name": "stdout",
     "output_type": "stream",
     "text": [
      "Request succeeded for https://fred.stlouisfed.org/series/TXTHRO7POP\n"
     ]
    },
    {
     "data": {
      "text/plain": [
       "' county  Throckmorton County series id TXTHRO7POP'"
      ]
     },
     "metadata": {},
     "output_type": "display_data"
    },
    {
     "name": "stdout",
     "output_type": "stream",
     "text": [
      "Request succeeded for https://fred.stlouisfed.org/series/TXTITU9POP\n"
     ]
    },
    {
     "data": {
      "text/plain": [
       "' county  Titus County series id TXTITU9POP'"
      ]
     },
     "metadata": {},
     "output_type": "display_data"
    },
    {
     "name": "stdout",
     "output_type": "stream",
     "text": [
      "Request succeeded for https://fred.stlouisfed.org/series/TXTOMG1POP\n"
     ]
    },
    {
     "data": {
      "text/plain": [
       "' county  Tom Green County series id TXTOMG1POP'"
      ]
     },
     "metadata": {},
     "output_type": "display_data"
    },
    {
     "name": "stdout",
     "output_type": "stream",
     "text": [
      "Request succeeded for https://fred.stlouisfed.org/series/TXTRAV3POP\n"
     ]
    },
    {
     "data": {
      "text/plain": [
       "' county  Travis County series id TXTRAV3POP'"
      ]
     },
     "metadata": {},
     "output_type": "display_data"
    },
    {
     "name": "stdout",
     "output_type": "stream",
     "text": [
      "Request succeeded for https://fred.stlouisfed.org/series/TXTRIN5POP\n"
     ]
    },
    {
     "data": {
      "text/plain": [
       "' county  Trinity County series id TXTRIN5POP'"
      ]
     },
     "metadata": {},
     "output_type": "display_data"
    },
    {
     "name": "stdout",
     "output_type": "stream",
     "text": [
      "Request succeeded for https://fred.stlouisfed.org/series/TXTYLE7POP\n"
     ]
    },
    {
     "data": {
      "text/plain": [
       "' county  Tyler County series id TXTYLE7POP'"
      ]
     },
     "metadata": {},
     "output_type": "display_data"
    },
    {
     "name": "stdout",
     "output_type": "stream",
     "text": [
      "Request succeeded for https://fred.stlouisfed.org/series/TXUPSH9POP\n"
     ]
    },
    {
     "data": {
      "text/plain": [
       "' county  Upshur County series id TXUPSH9POP'"
      ]
     },
     "metadata": {},
     "output_type": "display_data"
    },
    {
     "name": "stdout",
     "output_type": "stream",
     "text": [
      "Request succeeded for https://fred.stlouisfed.org/series/TXUPTO1POP\n"
     ]
    },
    {
     "data": {
      "text/plain": [
       "' county  Upton County series id TXUPTO1POP'"
      ]
     },
     "metadata": {},
     "output_type": "display_data"
    },
    {
     "name": "stdout",
     "output_type": "stream",
     "text": [
      "Request succeeded for https://fred.stlouisfed.org/series/TXUVAL3POP\n"
     ]
    },
    {
     "data": {
      "text/plain": [
       "' county  Uvalde County series id TXUVAL3POP'"
      ]
     },
     "metadata": {},
     "output_type": "display_data"
    },
    {
     "name": "stdout",
     "output_type": "stream",
     "text": [
      "Request succeeded for https://fred.stlouisfed.org/series/TXVALV5POP\n"
     ]
    },
    {
     "data": {
      "text/plain": [
       "' county  Val Verde County series id TXVALV5POP'"
      ]
     },
     "metadata": {},
     "output_type": "display_data"
    },
    {
     "name": "stdout",
     "output_type": "stream",
     "text": [
      "Request succeeded for https://fred.stlouisfed.org/series/TXVANZ7POP\n"
     ]
    },
    {
     "data": {
      "text/plain": [
       "' county  Van Zandt County series id TXVANZ7POP'"
      ]
     },
     "metadata": {},
     "output_type": "display_data"
    },
    {
     "name": "stdout",
     "output_type": "stream",
     "text": [
      "Request succeeded for https://fred.stlouisfed.org/series/TXVICT0POP\n"
     ]
    },
    {
     "data": {
      "text/plain": [
       "' county  Victoria County series id TXVICT0POP'"
      ]
     },
     "metadata": {},
     "output_type": "display_data"
    },
    {
     "name": "stdout",
     "output_type": "stream",
     "text": [
      "Request succeeded for https://fred.stlouisfed.org/series/TXWALK1POP\n"
     ]
    },
    {
     "data": {
      "text/plain": [
       "' county  Walker County series id TXWALK1POP'"
      ]
     },
     "metadata": {},
     "output_type": "display_data"
    },
    {
     "name": "stdout",
     "output_type": "stream",
     "text": [
      "Request succeeded for https://fred.stlouisfed.org/series/TXWALL3POP\n"
     ]
    },
    {
     "data": {
      "text/plain": [
       "' county  Waller County series id TXWALL3POP'"
      ]
     },
     "metadata": {},
     "output_type": "display_data"
    },
    {
     "name": "stdout",
     "output_type": "stream",
     "text": [
      "Request succeeded for https://fred.stlouisfed.org/series/TXWARD5POP\n"
     ]
    },
    {
     "data": {
      "text/plain": [
       "' county  Ward County series id TXWARD5POP'"
      ]
     },
     "metadata": {},
     "output_type": "display_data"
    },
    {
     "name": "stdout",
     "output_type": "stream",
     "text": [
      "Request succeeded for https://fred.stlouisfed.org/series/TXWASH7POP\n"
     ]
    },
    {
     "data": {
      "text/plain": [
       "' county  Washington County series id TXWASH7POP'"
      ]
     },
     "metadata": {},
     "output_type": "display_data"
    },
    {
     "name": "stdout",
     "output_type": "stream",
     "text": [
      "Request succeeded for https://fred.stlouisfed.org/series/TXWEBB7POP\n"
     ]
    },
    {
     "data": {
      "text/plain": [
       "' county  Webb County series id TXWEBB7POP'"
      ]
     },
     "metadata": {},
     "output_type": "display_data"
    },
    {
     "name": "stdout",
     "output_type": "stream",
     "text": [
      "Request succeeded for https://fred.stlouisfed.org/series/TXWHAR1POP\n"
     ]
    },
    {
     "data": {
      "text/plain": [
       "' county  Wharton County series id TXWHAR1POP'"
      ]
     },
     "metadata": {},
     "output_type": "display_data"
    },
    {
     "name": "stdout",
     "output_type": "stream",
     "text": [
      "Request succeeded for https://fred.stlouisfed.org/series/TXWHEE3POP\n"
     ]
    },
    {
     "data": {
      "text/plain": [
       "' county  Wheeler County series id TXWHEE3POP'"
      ]
     },
     "metadata": {},
     "output_type": "display_data"
    },
    {
     "name": "stdout",
     "output_type": "stream",
     "text": [
      "Request succeeded for https://fred.stlouisfed.org/series/TXWICH5POP\n"
     ]
    },
    {
     "data": {
      "text/plain": [
       "' county  Wichita County series id TXWICH5POP'"
      ]
     },
     "metadata": {},
     "output_type": "display_data"
    },
    {
     "name": "stdout",
     "output_type": "stream",
     "text": [
      "Request succeeded for https://fred.stlouisfed.org/series/TXWILB7POP\n"
     ]
    },
    {
     "data": {
      "text/plain": [
       "' county  Wilbarger County series id TXWILB7POP'"
      ]
     },
     "metadata": {},
     "output_type": "display_data"
    },
    {
     "name": "stdout",
     "output_type": "stream",
     "text": [
      "Request succeeded for https://fred.stlouisfed.org/series/TXWILL5POP\n"
     ]
    },
    {
     "data": {
      "text/plain": [
       "' county  Williamson County series id TXWILL5POP'"
      ]
     },
     "metadata": {},
     "output_type": "display_data"
    },
    {
     "data": {
      "text/plain": [
       "'this is the dup abbr code TXWILL5POP'"
      ]
     },
     "metadata": {},
     "output_type": "display_data"
    },
    {
     "name": "stdout",
     "output_type": "stream",
     "text": [
      "Request succeeded for https://fred.stlouisfed.org/series/TXWILL9POP\n"
     ]
    },
    {
     "data": {
      "text/plain": [
       "' county  Willacy County series id TXWILL9POP'"
      ]
     },
     "metadata": {},
     "output_type": "display_data"
    },
    {
     "name": "stdout",
     "output_type": "stream",
     "text": [
      "Request succeeded for https://fred.stlouisfed.org/series/TXWILS3POP\n"
     ]
    },
    {
     "data": {
      "text/plain": [
       "' county  Wilson County series id TXWILS3POP'"
      ]
     },
     "metadata": {},
     "output_type": "display_data"
    },
    {
     "name": "stdout",
     "output_type": "stream",
     "text": [
      "Request succeeded for https://fred.stlouisfed.org/series/TXWINK5POP\n"
     ]
    },
    {
     "data": {
      "text/plain": [
       "' county  Winkler County series id TXWINK5POP'"
      ]
     },
     "metadata": {},
     "output_type": "display_data"
    },
    {
     "name": "stdout",
     "output_type": "stream",
     "text": [
      "Request succeeded for https://fred.stlouisfed.org/series/TXWISE7POP\n"
     ]
    },
    {
     "data": {
      "text/plain": [
       "' county  Wise County series id TXWISE7POP'"
      ]
     },
     "metadata": {},
     "output_type": "display_data"
    },
    {
     "name": "stdout",
     "output_type": "stream",
     "text": [
      "Request succeeded for https://fred.stlouisfed.org/series/TXWOOD9POP\n"
     ]
    },
    {
     "data": {
      "text/plain": [
       "' county  Wood County series id TXWOOD9POP'"
      ]
     },
     "metadata": {},
     "output_type": "display_data"
    },
    {
     "name": "stdout",
     "output_type": "stream",
     "text": [
      "Request succeeded for https://fred.stlouisfed.org/series/TXYOAK1POP\n"
     ]
    },
    {
     "data": {
      "text/plain": [
       "' county  Yoakum County series id TXYOAK1POP'"
      ]
     },
     "metadata": {},
     "output_type": "display_data"
    },
    {
     "name": "stdout",
     "output_type": "stream",
     "text": [
      "Request succeeded for https://fred.stlouisfed.org/series/TXYOUN3POP\n"
     ]
    },
    {
     "data": {
      "text/plain": [
       "' county  Young County series id TXYOUN3POP'"
      ]
     },
     "metadata": {},
     "output_type": "display_data"
    },
    {
     "name": "stdout",
     "output_type": "stream",
     "text": [
      "Request succeeded for https://fred.stlouisfed.org/series/TXZAPA5POP\n"
     ]
    },
    {
     "data": {
      "text/plain": [
       "' county  Zapata County series id TXZAPA5POP'"
      ]
     },
     "metadata": {},
     "output_type": "display_data"
    },
    {
     "name": "stdout",
     "output_type": "stream",
     "text": [
      "Request succeeded for https://fred.stlouisfed.org/series/TXZAVA7POP\n"
     ]
    },
    {
     "data": {
      "text/plain": [
       "' county  Zavala County series id TXZAVA7POP'"
      ]
     },
     "metadata": {},
     "output_type": "display_data"
    },
    {
     "name": "stdout",
     "output_type": "stream",
     "text": [
      "Collected 254 POP Series ID's.\n"
     ]
    },
    {
     "data": {
      "text/html": [
       "<div>\n",
       "<style scoped>\n",
       "    .dataframe tbody tr th:only-of-type {\n",
       "        vertical-align: middle;\n",
       "    }\n",
       "\n",
       "    .dataframe tbody tr th {\n",
       "        vertical-align: top;\n",
       "    }\n",
       "\n",
       "    .dataframe thead th {\n",
       "        text-align: right;\n",
       "    }\n",
       "</style>\n",
       "<table border=\"1\" class=\"dataframe\">\n",
       "  <thead>\n",
       "    <tr style=\"text-align: right;\">\n",
       "      <th></th>\n",
       "      <th>County</th>\n",
       "      <th>POP ID</th>\n",
       "    </tr>\n",
       "  </thead>\n",
       "  <tbody>\n",
       "    <tr>\n",
       "      <th>0</th>\n",
       "      <td>Anderson County</td>\n",
       "      <td>TXANDE1POP</td>\n",
       "    </tr>\n",
       "    <tr>\n",
       "      <th>1</th>\n",
       "      <td>Andrews County</td>\n",
       "      <td>TXANDR3POP</td>\n",
       "    </tr>\n",
       "    <tr>\n",
       "      <th>2</th>\n",
       "      <td>Angelina County</td>\n",
       "      <td>TXANGE5POP</td>\n",
       "    </tr>\n",
       "    <tr>\n",
       "      <th>3</th>\n",
       "      <td>Aransas County</td>\n",
       "      <td>TXARAN7POP</td>\n",
       "    </tr>\n",
       "    <tr>\n",
       "      <th>4</th>\n",
       "      <td>Archer County</td>\n",
       "      <td>TXARCH9POP</td>\n",
       "    </tr>\n",
       "    <tr>\n",
       "      <th>5</th>\n",
       "      <td>Armstrong County</td>\n",
       "      <td>TXARMS1POP</td>\n",
       "    </tr>\n",
       "    <tr>\n",
       "      <th>6</th>\n",
       "      <td>Atascosa County</td>\n",
       "      <td>TXATAS3POP</td>\n",
       "    </tr>\n",
       "    <tr>\n",
       "      <th>7</th>\n",
       "      <td>Austin County</td>\n",
       "      <td>TXAUST5POP</td>\n",
       "    </tr>\n",
       "    <tr>\n",
       "      <th>8</th>\n",
       "      <td>Bailey County</td>\n",
       "      <td>TXBAIL7POP</td>\n",
       "    </tr>\n",
       "    <tr>\n",
       "      <th>9</th>\n",
       "      <td>Bandera County</td>\n",
       "      <td>TXBAND9POP</td>\n",
       "    </tr>\n",
       "  </tbody>\n",
       "</table>\n",
       "</div>"
      ],
      "text/plain": [
       "             County      POP ID\n",
       "0   Anderson County  TXANDE1POP\n",
       "1    Andrews County  TXANDR3POP\n",
       "2   Angelina County  TXANGE5POP\n",
       "3    Aransas County  TXARAN7POP\n",
       "4     Archer County  TXARCH9POP\n",
       "5  Armstrong County  TXARMS1POP\n",
       "6   Atascosa County  TXATAS3POP\n",
       "7     Austin County  TXAUST5POP\n",
       "8     Bailey County  TXBAIL7POP\n",
       "9    Bandera County  TXBAND9POP"
      ]
     },
     "execution_count": 6,
     "metadata": {},
     "output_type": "execute_result"
    }
   ],
   "source": [
    "county_abbrs = get_county_abbr()\n",
    "counties = []\n",
    "pop_ids = []\n",
    "for county_abbr in county_abbrs:\n",
    "    for idx in itertools.chain(range(1, 10, 2), range(0, 10, 2)):\n",
    "        series_id = f'TX{county_abbr}{idx}POP'\n",
    "        if pop_ids and pop_ids[-1] == series_id: \n",
    "            series_id = f'TX{county_abbr}{idx+2}POP'\n",
    "            display (f'this is the dup abbr code {pop_ids[-1]}')\n",
    "            # break\n",
    "        # display (series_id)\n",
    "        # for index in range(1, 520):  # Adjusted range to Python syntax\n",
    "        try:\n",
    "\n",
    "            url = f'https://fred.stlouisfed.org/series/{series_id}'\n",
    "            county,pop_id = make_request_with_retries(url)\n",
    "            if county:\n",
    "                    counties.append(county)\n",
    "                    pop_ids.append(pop_id)\n",
    "                    break\n",
    "        except Exception as e:  # Catching a general exception for any other errors\n",
    "            print(f\"An error occurred while processing {url}: {e}\")\n",
    "# Print the list to see the result\n",
    "print(f\"Collected {len(counties)} POP Series ID's.\")\n",
    "county_series_ids_df = pd.DataFrame({\n",
    "    'County': counties,\n",
    "    'POP ID': pop_ids\n",
    "})\n",
    "county_series_ids_df.head(10)"
   ]
  },
  {
   "cell_type": "code",
   "execution_count": 7,
   "metadata": {
    "execution": {
     "iopub.execute_input": "2024-04-21T20:55:42.680882Z",
     "iopub.status.busy": "2024-04-21T20:55:42.679884Z",
     "iopub.status.idle": "2024-04-21T20:55:42.690884Z",
     "shell.execute_reply": "2024-04-21T20:55:42.689916Z"
    }
   },
   "outputs": [],
   "source": [
    "# write the county series ids to a file. \n",
    "\n",
    "file_path = f\"../resources/TX_County_POP_ID.csv\"  # Construct file path with .csv extension\n",
    "county_series_ids_df.to_csv(file_path, index=False)"
   ]
  },
  {
   "cell_type": "code",
   "execution_count": null,
   "metadata": {},
   "outputs": [],
   "source": []
  }
 ],
 "metadata": {
  "kernelspec": {
   "display_name": "dev",
   "language": "python",
   "name": "dev"
  },
  "language_info": {
   "codemirror_mode": {
    "name": "ipython",
    "version": 3
   },
   "file_extension": ".py",
   "mimetype": "text/x-python",
   "name": "python",
   "nbconvert_exporter": "python",
   "pygments_lexer": "ipython3",
   "version": "3.10.13"
  }
 },
 "nbformat": 4,
 "nbformat_minor": 2
}
