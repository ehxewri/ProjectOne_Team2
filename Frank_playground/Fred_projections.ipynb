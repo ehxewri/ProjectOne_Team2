{
 "cells": [
  {
   "cell_type": "code",
   "execution_count": 1,
   "metadata": {},
   "outputs": [
    {
     "name": "stdout",
     "output_type": "stream",
     "text": [
      "Libraries successfully installed\n"
     ]
    }
   ],
   "source": [
    "# Install the required libraries\n",
    "from IPython.display import clear_output\n",
    "try:\n",
    "  from prophet import Prophet\n",
    "except:  \n",
    "  !pip install prophet\n",
    "  from prophet import Prophet\n",
    "try:\n",
    "  import hvplot.pandas\n",
    "except:  \n",
    "  !pip install hvplot\n",
    "  import hvplot.pandas\n",
    "finally:\n",
    "  clear_output()\n",
    "  print(\"Libraries successfully installed\")"
   ]
  },
  {
   "cell_type": "code",
   "execution_count": 2,
   "metadata": {},
   "outputs": [
    {
     "name": "stdout",
     "output_type": "stream",
     "text": [
      "Import Packages successfully\n"
     ]
    }
   ],
   "source": [
    "# Import the required libraries and dependencies\n",
    "try:\n",
    "    import pandas as pd\n",
    "    from prophet import Prophet\n",
    "    import datetime as dt\n",
    "    import numpy as np\n",
    "    import hvplot.pandas\n",
    "    import matplotlib.pyplot as plt\n",
    "    import csv\n",
    "    %matplotlib inline\n",
    "except:\n",
    "  print(\"Error Importing libraries\")\n",
    "finally:\n",
    "    clear_output()\n",
    "    print(\"Import Packages successfully\")"
   ]
  },
  {
   "cell_type": "code",
   "execution_count": 3,
   "metadata": {
    "scrolled": true
   },
   "outputs": [
    {
     "data": {
      "text/html": [
       "<div>\n",
       "<style scoped>\n",
       "    .dataframe tbody tr th:only-of-type {\n",
       "        vertical-align: middle;\n",
       "    }\n",
       "\n",
       "    .dataframe tbody tr th {\n",
       "        vertical-align: top;\n",
       "    }\n",
       "\n",
       "    .dataframe thead th {\n",
       "        text-align: right;\n",
       "    }\n",
       "</style>\n",
       "<table border=\"1\" class=\"dataframe\">\n",
       "  <thead>\n",
       "    <tr style=\"text-align: right;\">\n",
       "      <th></th>\n",
       "      <th>country</th>\n",
       "      <th>state</th>\n",
       "      <th>county</th>\n",
       "      <th>series_Desc</th>\n",
       "      <th>series_id</th>\n",
       "      <th>filename</th>\n",
       "    </tr>\n",
       "  </thead>\n",
       "  <tbody>\n",
       "    <tr>\n",
       "      <th>0</th>\n",
       "      <td>United States</td>\n",
       "      <td>TX</td>\n",
       "      <td>Collin</td>\n",
       "      <td>House Price Index</td>\n",
       "      <td>ATNHPIUS48085A</td>\n",
       "      <td>United_States_TX_Collin_House_Price_Index</td>\n",
       "    </tr>\n",
       "    <tr>\n",
       "      <th>1</th>\n",
       "      <td>United States</td>\n",
       "      <td>TX</td>\n",
       "      <td>Dallas</td>\n",
       "      <td>House Price Index</td>\n",
       "      <td>ATNHPIUS48113A</td>\n",
       "      <td>United_States_TX_Dallas_House_Price_Index</td>\n",
       "    </tr>\n",
       "    <tr>\n",
       "      <th>2</th>\n",
       "      <td>United States</td>\n",
       "      <td>TX</td>\n",
       "      <td>Denton</td>\n",
       "      <td>House Price Index</td>\n",
       "      <td>ATNHPIUS48121A</td>\n",
       "      <td>United_States_TX_Denton_House_Price_Index</td>\n",
       "    </tr>\n",
       "    <tr>\n",
       "      <th>3</th>\n",
       "      <td>United States</td>\n",
       "      <td>TX</td>\n",
       "      <td>Collin</td>\n",
       "      <td>Household Income</td>\n",
       "      <td>MHITX48085A052NCEN</td>\n",
       "      <td>United_States_TX_Collin_Household_Income</td>\n",
       "    </tr>\n",
       "    <tr>\n",
       "      <th>4</th>\n",
       "      <td>United States</td>\n",
       "      <td>TX</td>\n",
       "      <td>Dallas</td>\n",
       "      <td>Household Income</td>\n",
       "      <td>MHITX48113A052NCEN</td>\n",
       "      <td>United_States_TX_Dallas_Household_Income</td>\n",
       "    </tr>\n",
       "    <tr>\n",
       "      <th>5</th>\n",
       "      <td>United States</td>\n",
       "      <td>TX</td>\n",
       "      <td>Denton</td>\n",
       "      <td>Household Income</td>\n",
       "      <td>MHITX48121A052NCEN</td>\n",
       "      <td>United_States_TX_Denton_Household_Income</td>\n",
       "    </tr>\n",
       "    <tr>\n",
       "      <th>6</th>\n",
       "      <td>United States</td>\n",
       "      <td>TX</td>\n",
       "      <td>Collin</td>\n",
       "      <td>Resident Population</td>\n",
       "      <td>TXCOLL5POP</td>\n",
       "      <td>United_States_TX_Collin_Resident_Population</td>\n",
       "    </tr>\n",
       "    <tr>\n",
       "      <th>7</th>\n",
       "      <td>United States</td>\n",
       "      <td>TX</td>\n",
       "      <td>Dallas</td>\n",
       "      <td>Resident Population</td>\n",
       "      <td>TXDALL3POP</td>\n",
       "      <td>United_States_TX_Dallas_Resident_Population</td>\n",
       "    </tr>\n",
       "    <tr>\n",
       "      <th>8</th>\n",
       "      <td>United States</td>\n",
       "      <td>TX</td>\n",
       "      <td>Denton</td>\n",
       "      <td>Resident Population</td>\n",
       "      <td>TXDENT2POP</td>\n",
       "      <td>United_States_TX_Denton_Resident_Population</td>\n",
       "    </tr>\n",
       "  </tbody>\n",
       "</table>\n",
       "</div>"
      ],
      "text/plain": [
       "         country state  county          series_Desc           series_id  \\\n",
       "0  United States    TX  Collin    House Price Index      ATNHPIUS48085A   \n",
       "1  United States    TX  Dallas    House Price Index      ATNHPIUS48113A   \n",
       "2  United States    TX  Denton    House Price Index      ATNHPIUS48121A   \n",
       "3  United States    TX  Collin     Household Income  MHITX48085A052NCEN   \n",
       "4  United States    TX  Dallas     Household Income  MHITX48113A052NCEN   \n",
       "5  United States    TX  Denton     Household Income  MHITX48121A052NCEN   \n",
       "6  United States    TX  Collin  Resident Population          TXCOLL5POP   \n",
       "7  United States    TX  Dallas  Resident Population          TXDALL3POP   \n",
       "8  United States    TX  Denton  Resident Population          TXDENT2POP   \n",
       "\n",
       "                                      filename  \n",
       "0    United_States_TX_Collin_House_Price_Index  \n",
       "1    United_States_TX_Dallas_House_Price_Index  \n",
       "2    United_States_TX_Denton_House_Price_Index  \n",
       "3     United_States_TX_Collin_Household_Income  \n",
       "4     United_States_TX_Dallas_Household_Income  \n",
       "5     United_States_TX_Denton_Household_Income  \n",
       "6  United_States_TX_Collin_Resident_Population  \n",
       "7  United_States_TX_Dallas_Resident_Population  \n",
       "8  United_States_TX_Denton_Resident_Population  "
      ]
     },
     "metadata": {},
     "output_type": "display_data"
    }
   ],
   "source": [
    "# read the file into a list\n",
    "list_of_series_df = pd.read_csv('C:\\SRC\\AI\\ProjectOne_Team2\\Frank_playground\\output_filename.csv')\n",
    "display (list_of_series_df)"
   ]
  },
  {
   "cell_type": "code",
   "execution_count": 4,
   "metadata": {},
   "outputs": [
    {
     "name": "stderr",
     "output_type": "stream",
     "text": [
      "19:10:11 - cmdstanpy - INFO - Chain [1] start processing\n",
      "19:10:13 - cmdstanpy - INFO - Chain [1] done processing\n"
     ]
    },
    {
     "data": {
      "application/vnd.jupyter.widget-view+json": {
       "model_id": "7a18bb9b39ed439aac6673b087b98b94",
       "version_major": 2,
       "version_minor": 0
      },
      "text/plain": [
       "BokehModel(combine_events=True, render_bundle={'docs_json': {'0cf68669-7f3d-485a-b388-552e2195d89e': {'version…"
      ]
     },
     "metadata": {},
     "output_type": "display_data"
    },
    {
     "name": "stderr",
     "output_type": "stream",
     "text": [
      "19:10:15 - cmdstanpy - INFO - Chain [1] start processing\n",
      "19:10:16 - cmdstanpy - INFO - Chain [1] done processing\n"
     ]
    },
    {
     "data": {
      "application/vnd.jupyter.widget-view+json": {
       "model_id": "4b5d146681bc4452beb33607252bac2e",
       "version_major": 2,
       "version_minor": 0
      },
      "text/plain": [
       "BokehModel(combine_events=True, render_bundle={'docs_json': {'dd212a01-b29a-4013-b220-f9e8b1be22d9': {'version…"
      ]
     },
     "metadata": {},
     "output_type": "display_data"
    },
    {
     "name": "stderr",
     "output_type": "stream",
     "text": [
      "19:10:18 - cmdstanpy - INFO - Chain [1] start processing\n",
      "19:10:19 - cmdstanpy - INFO - Chain [1] done processing\n"
     ]
    },
    {
     "data": {
      "application/vnd.jupyter.widget-view+json": {
       "model_id": "336afdc2ade44e7aab63b0d469082640",
       "version_major": 2,
       "version_minor": 0
      },
      "text/plain": [
       "BokehModel(combine_events=True, render_bundle={'docs_json': {'d48ebbc5-205c-44df-9431-4e3ebce2f9de': {'version…"
      ]
     },
     "metadata": {},
     "output_type": "display_data"
    },
    {
     "name": "stderr",
     "output_type": "stream",
     "text": [
      "19:10:22 - cmdstanpy - INFO - Chain [1] start processing\n",
      "19:10:22 - cmdstanpy - INFO - Chain [1] done processing\n"
     ]
    },
    {
     "data": {
      "application/vnd.jupyter.widget-view+json": {
       "model_id": "3a46590ecc5b4ebba5d951f1acb4f7d4",
       "version_major": 2,
       "version_minor": 0
      },
      "text/plain": [
       "BokehModel(combine_events=True, render_bundle={'docs_json': {'f58c457c-0615-418c-8970-fbeb83ad1286': {'version…"
      ]
     },
     "metadata": {},
     "output_type": "display_data"
    },
    {
     "name": "stderr",
     "output_type": "stream",
     "text": [
      "19:10:25 - cmdstanpy - INFO - Chain [1] start processing\n",
      "19:10:25 - cmdstanpy - INFO - Chain [1] done processing\n"
     ]
    },
    {
     "data": {
      "application/vnd.jupyter.widget-view+json": {
       "model_id": "0d68cd30825a4e15ac4b1062a1136d0a",
       "version_major": 2,
       "version_minor": 0
      },
      "text/plain": [
       "BokehModel(combine_events=True, render_bundle={'docs_json': {'b9f6668d-b936-41f4-b0e2-873f95d28195': {'version…"
      ]
     },
     "metadata": {},
     "output_type": "display_data"
    },
    {
     "name": "stderr",
     "output_type": "stream",
     "text": [
      "19:10:27 - cmdstanpy - INFO - Chain [1] start processing\n",
      "19:10:27 - cmdstanpy - INFO - Chain [1] done processing\n"
     ]
    },
    {
     "data": {
      "application/vnd.jupyter.widget-view+json": {
       "model_id": "3ada6f17dde1463ba48d2f85eb171f98",
       "version_major": 2,
       "version_minor": 0
      },
      "text/plain": [
       "BokehModel(combine_events=True, render_bundle={'docs_json': {'000f6619-2d82-44f0-ad09-cda716b8ab12': {'version…"
      ]
     },
     "metadata": {},
     "output_type": "display_data"
    },
    {
     "name": "stderr",
     "output_type": "stream",
     "text": [
      "19:10:30 - cmdstanpy - INFO - Chain [1] start processing\n",
      "19:10:30 - cmdstanpy - INFO - Chain [1] done processing\n"
     ]
    },
    {
     "data": {
      "application/vnd.jupyter.widget-view+json": {
       "model_id": "d59bf58b57e84db8aedce99eeb088bd0",
       "version_major": 2,
       "version_minor": 0
      },
      "text/plain": [
       "BokehModel(combine_events=True, render_bundle={'docs_json': {'73029906-185a-423c-9c74-22d584b8107a': {'version…"
      ]
     },
     "metadata": {},
     "output_type": "display_data"
    },
    {
     "name": "stderr",
     "output_type": "stream",
     "text": [
      "19:10:33 - cmdstanpy - INFO - Chain [1] start processing\n",
      "19:10:33 - cmdstanpy - INFO - Chain [1] done processing\n"
     ]
    },
    {
     "data": {
      "application/vnd.jupyter.widget-view+json": {
       "model_id": "9475ae2090f74e89b07d80c21e181978",
       "version_major": 2,
       "version_minor": 0
      },
      "text/plain": [
       "BokehModel(combine_events=True, render_bundle={'docs_json': {'001a6ff0-8385-4c7c-b2b8-e2b708cdd32d': {'version…"
      ]
     },
     "metadata": {},
     "output_type": "display_data"
    },
    {
     "name": "stderr",
     "output_type": "stream",
     "text": [
      "19:10:36 - cmdstanpy - INFO - Chain [1] start processing\n",
      "19:10:37 - cmdstanpy - INFO - Chain [1] done processing\n"
     ]
    },
    {
     "data": {
      "application/vnd.jupyter.widget-view+json": {
       "model_id": "21303ab6302f49bca8875d86e14f37cb",
       "version_major": 2,
       "version_minor": 0
      },
      "text/plain": [
       "BokehModel(combine_events=True, render_bundle={'docs_json': {'4d7ae64d-d5de-4ce4-8e1a-680a378086f7': {'version…"
      ]
     },
     "metadata": {},
     "output_type": "display_data"
    }
   ],
   "source": [
    "series_dict = {}\n",
    "# read the file into a list\n",
    "for index, row in list_of_series_df.iterrows():\n",
    "    file_id=list_of_series_df.loc[index,'filename']    \n",
    "    series_id = file_id + '_pd'\n",
    "    series_dict[series_id] =  pd.read_csv(f'C:\\SRC\\AI\\ProjectOne_Team2\\\\resources\\{file_id}.csv',index_col='date')\n",
    "    series_df=(series_dict[series_id])\n",
    "    # display (series_df)\n",
    "    # Using the series data DataFrame, reset the index so the date information is no longer the index\n",
    "    series_df_reset = series_df.reset_index()\n",
    "    # Label the columns ds and y so that the syntax is recognized by Prophet\n",
    "    series_df_reset=series_df_reset.rename(columns={'date':'ds','value':'y'})\n",
    "    # Drop an NaN values from the prophet_df DataFrame\n",
    "    series_df_reset=series_df_reset.dropna()\n",
    "    #\n",
    "    # # View the first and last five rows of the mercado_prophet_df DataFrame\n",
    "    # display (series_df_reset.head())\n",
    "    # display (series_df_reset.tail())\n",
    "    # Call the Prophet function, store as an object\n",
    "    model = Prophet()\n",
    "    model\n",
    "    #\n",
    "    # Fit the time-series model.\n",
    "    model.fit(series_df_reset)\n",
    "    # Create a future dataframe to hold predictions\n",
    "    # Make the prediction go out as far as 2000 hours (approx 80 days)\n",
    "\n",
    "    future=model.make_future_dataframe(periods=10, freq = \"y\")\n",
    "\n",
    "    # View the last five rows of the future_mercado_trends DataFrame\n",
    "    # display (future)\n",
    "\n",
    "    # Make the predictions for the trend data using the future_mercado_trends DataFrame\n",
    "\n",
    "    forcast = model.predict(future)\n",
    "    # display (forcast.info())\n",
    "    # Display the first five rows of the forecast_mercado_trends DataFrame\n",
    "    # display (forcast.head())\n",
    "    display (forcast.interactive().hvplot.line(\n",
    "        x='ds', \n",
    "        title=series_id, \n",
    "        xlabel='ds', \n",
    "        ylabel='yhat',\n",
    "        width=800, \n",
    "        height=500, \n",
    "        grid=True,\n",
    "        color=['green','blue','red']))"
   ]
  },
  {
   "cell_type": "code",
   "execution_count": null,
   "metadata": {},
   "outputs": [],
   "source": []
  }
 ],
 "metadata": {
  "kernelspec": {
   "display_name": "dev",
   "language": "python",
   "name": "dev"
  },
  "language_info": {
   "codemirror_mode": {
    "name": "ipython",
    "version": 3
   },
   "file_extension": ".py",
   "mimetype": "text/x-python",
   "name": "python",
   "nbconvert_exporter": "python",
   "pygments_lexer": "ipython3",
   "version": "3.10.13"
  },
  "widgets": {
   "application/vnd.jupyter.widget-state+json": {
    "state": {},
    "version_major": 2,
    "version_minor": 0
   }
  }
 },
 "nbformat": 4,
 "nbformat_minor": 4
}
